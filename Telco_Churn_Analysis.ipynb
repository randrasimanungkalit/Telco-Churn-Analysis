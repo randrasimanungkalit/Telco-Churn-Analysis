{
  "cells": [
    {
      "cell_type": "markdown",
      "metadata": {
        "id": "qLQrIgAotiiq"
      },
      "source": [
        "# Telco Customer Churn Analysis\n",
        "---"
      ]
    },
    {
      "cell_type": "markdown",
      "metadata": {
        "id": "m2ODxPXOs3R4"
      },
      "source": [
        "1. Buat model Machine Learning Menggunakan data Telco Customer Churn\n",
        "2. Target: Churn (yes: Customers who left within the last month,)\n",
        "3. Binary Classification\n",
        "4. model.predict() -> Accuracy\n",
        "\n",
        "    Data Source : https://www.kaggle.com/datasets/blastchar/telco-customer-churn"
      ]
    },
    {
      "cell_type": "markdown",
      "metadata": {
        "id": "euEIc_kZtYM9"
      },
      "source": [
        "1. Eexploratory Data Analysis -> Find Problen in dataset\n",
        "2. Preparation and feature engineering \n",
        "3. Model Selection\n",
        "4. Hyperparameter Tunning\n",
        "5. Find Best Model"
      ]
    },
    {
      "cell_type": "code",
      "execution_count": null,
      "metadata": {
        "id": "3-3a9OyYx1sl"
      },
      "outputs": [],
      "source": [
        "import pandas as pd\n",
        "import numpy as np\n",
        "\n",
        "from sklearn.preprocessing import MinMaxScaler, OneHotEncoder\n",
        "from sklearn.compose import ColumnTransformer\n",
        "from sklearn.pipeline import Pipeline\n",
        "\n",
        "from sklearn.model_selection import train_test_split, cross_val_score, KFold, RandomizedSearchCV\n",
        "from sklearn.feature_selection import SelectKBest, chi2\n",
        "\n",
        "from sklearn.utils.class_weight import compute_class_weight\n",
        "\n",
        "from sklearn.metrics import classification_report\n",
        "\n",
        "from sklearn.linear_model import LogisticRegression\n",
        "from sklearn.tree import DecisionTreeClassifier\n",
        "from sklearn.neighbors import KNeighborsClassifier\n",
        "from sklearn.ensemble import RandomForestClassifier, AdaBoostClassifier\n",
        "from xgboost.sklearn import XGBClassifier\n",
        "\n",
        "from imblearn.over_sampling import SMOTE\n",
        "from imblearn.pipeline import Pipeline as Pipeline_im\n",
        "\n",
        "import seaborn as sns\n",
        "import matplotlib.pyplot as plt"
      ]
    },
    {
      "cell_type": "code",
      "execution_count": null,
      "metadata": {
        "colab": {
          "base_uri": "https://localhost:8080/",
          "height": 386
        },
        "id": "QwNm9lYavAmr",
        "outputId": "2cfde7a9-5c67-4ef0-d453-69d91f1c67ce"
      },
      "outputs": [
        {
          "data": {
            "text/html": [
              "\n",
              "  <div id=\"df-1934a7bb-5091-4367-8c11-77a57f6051f9\">\n",
              "    <div class=\"colab-df-container\">\n",
              "      <div>\n",
              "<style scoped>\n",
              "    .dataframe tbody tr th:only-of-type {\n",
              "        vertical-align: middle;\n",
              "    }\n",
              "\n",
              "    .dataframe tbody tr th {\n",
              "        vertical-align: top;\n",
              "    }\n",
              "\n",
              "    .dataframe thead th {\n",
              "        text-align: right;\n",
              "    }\n",
              "</style>\n",
              "<table border=\"1\" class=\"dataframe\">\n",
              "  <thead>\n",
              "    <tr style=\"text-align: right;\">\n",
              "      <th></th>\n",
              "      <th>customerID</th>\n",
              "      <th>gender</th>\n",
              "      <th>SeniorCitizen</th>\n",
              "      <th>Partner</th>\n",
              "      <th>Dependents</th>\n",
              "      <th>tenure</th>\n",
              "      <th>PhoneService</th>\n",
              "      <th>MultipleLines</th>\n",
              "      <th>InternetService</th>\n",
              "      <th>OnlineSecurity</th>\n",
              "      <th>...</th>\n",
              "      <th>DeviceProtection</th>\n",
              "      <th>TechSupport</th>\n",
              "      <th>StreamingTV</th>\n",
              "      <th>StreamingMovies</th>\n",
              "      <th>Contract</th>\n",
              "      <th>PaperlessBilling</th>\n",
              "      <th>PaymentMethod</th>\n",
              "      <th>MonthlyCharges</th>\n",
              "      <th>TotalCharges</th>\n",
              "      <th>Churn</th>\n",
              "    </tr>\n",
              "  </thead>\n",
              "  <tbody>\n",
              "    <tr>\n",
              "      <th>0</th>\n",
              "      <td>7590-VHVEG</td>\n",
              "      <td>Female</td>\n",
              "      <td>0</td>\n",
              "      <td>Yes</td>\n",
              "      <td>No</td>\n",
              "      <td>1</td>\n",
              "      <td>No</td>\n",
              "      <td>No phone service</td>\n",
              "      <td>DSL</td>\n",
              "      <td>No</td>\n",
              "      <td>...</td>\n",
              "      <td>No</td>\n",
              "      <td>No</td>\n",
              "      <td>No</td>\n",
              "      <td>No</td>\n",
              "      <td>Month-to-month</td>\n",
              "      <td>Yes</td>\n",
              "      <td>Electronic check</td>\n",
              "      <td>29.85</td>\n",
              "      <td>29.85</td>\n",
              "      <td>No</td>\n",
              "    </tr>\n",
              "    <tr>\n",
              "      <th>1</th>\n",
              "      <td>5575-GNVDE</td>\n",
              "      <td>Male</td>\n",
              "      <td>0</td>\n",
              "      <td>No</td>\n",
              "      <td>No</td>\n",
              "      <td>34</td>\n",
              "      <td>Yes</td>\n",
              "      <td>No</td>\n",
              "      <td>DSL</td>\n",
              "      <td>Yes</td>\n",
              "      <td>...</td>\n",
              "      <td>Yes</td>\n",
              "      <td>No</td>\n",
              "      <td>No</td>\n",
              "      <td>No</td>\n",
              "      <td>One year</td>\n",
              "      <td>No</td>\n",
              "      <td>Mailed check</td>\n",
              "      <td>56.95</td>\n",
              "      <td>1889.5</td>\n",
              "      <td>No</td>\n",
              "    </tr>\n",
              "    <tr>\n",
              "      <th>2</th>\n",
              "      <td>3668-QPYBK</td>\n",
              "      <td>Male</td>\n",
              "      <td>0</td>\n",
              "      <td>No</td>\n",
              "      <td>No</td>\n",
              "      <td>2</td>\n",
              "      <td>Yes</td>\n",
              "      <td>No</td>\n",
              "      <td>DSL</td>\n",
              "      <td>Yes</td>\n",
              "      <td>...</td>\n",
              "      <td>No</td>\n",
              "      <td>No</td>\n",
              "      <td>No</td>\n",
              "      <td>No</td>\n",
              "      <td>Month-to-month</td>\n",
              "      <td>Yes</td>\n",
              "      <td>Mailed check</td>\n",
              "      <td>53.85</td>\n",
              "      <td>108.15</td>\n",
              "      <td>Yes</td>\n",
              "    </tr>\n",
              "    <tr>\n",
              "      <th>3</th>\n",
              "      <td>7795-CFOCW</td>\n",
              "      <td>Male</td>\n",
              "      <td>0</td>\n",
              "      <td>No</td>\n",
              "      <td>No</td>\n",
              "      <td>45</td>\n",
              "      <td>No</td>\n",
              "      <td>No phone service</td>\n",
              "      <td>DSL</td>\n",
              "      <td>Yes</td>\n",
              "      <td>...</td>\n",
              "      <td>Yes</td>\n",
              "      <td>Yes</td>\n",
              "      <td>No</td>\n",
              "      <td>No</td>\n",
              "      <td>One year</td>\n",
              "      <td>No</td>\n",
              "      <td>Bank transfer (automatic)</td>\n",
              "      <td>42.30</td>\n",
              "      <td>1840.75</td>\n",
              "      <td>No</td>\n",
              "    </tr>\n",
              "    <tr>\n",
              "      <th>4</th>\n",
              "      <td>9237-HQITU</td>\n",
              "      <td>Female</td>\n",
              "      <td>0</td>\n",
              "      <td>No</td>\n",
              "      <td>No</td>\n",
              "      <td>2</td>\n",
              "      <td>Yes</td>\n",
              "      <td>No</td>\n",
              "      <td>Fiber optic</td>\n",
              "      <td>No</td>\n",
              "      <td>...</td>\n",
              "      <td>No</td>\n",
              "      <td>No</td>\n",
              "      <td>No</td>\n",
              "      <td>No</td>\n",
              "      <td>Month-to-month</td>\n",
              "      <td>Yes</td>\n",
              "      <td>Electronic check</td>\n",
              "      <td>70.70</td>\n",
              "      <td>151.65</td>\n",
              "      <td>Yes</td>\n",
              "    </tr>\n",
              "  </tbody>\n",
              "</table>\n",
              "<p>5 rows × 21 columns</p>\n",
              "</div>\n",
              "      <button class=\"colab-df-convert\" onclick=\"convertToInteractive('df-1934a7bb-5091-4367-8c11-77a57f6051f9')\"\n",
              "              title=\"Convert this dataframe to an interactive table.\"\n",
              "              style=\"display:none;\">\n",
              "        \n",
              "  <svg xmlns=\"http://www.w3.org/2000/svg\" height=\"24px\"viewBox=\"0 0 24 24\"\n",
              "       width=\"24px\">\n",
              "    <path d=\"M0 0h24v24H0V0z\" fill=\"none\"/>\n",
              "    <path d=\"M18.56 5.44l.94 2.06.94-2.06 2.06-.94-2.06-.94-.94-2.06-.94 2.06-2.06.94zm-11 1L8.5 8.5l.94-2.06 2.06-.94-2.06-.94L8.5 2.5l-.94 2.06-2.06.94zm10 10l.94 2.06.94-2.06 2.06-.94-2.06-.94-.94-2.06-.94 2.06-2.06.94z\"/><path d=\"M17.41 7.96l-1.37-1.37c-.4-.4-.92-.59-1.43-.59-.52 0-1.04.2-1.43.59L10.3 9.45l-7.72 7.72c-.78.78-.78 2.05 0 2.83L4 21.41c.39.39.9.59 1.41.59.51 0 1.02-.2 1.41-.59l7.78-7.78 2.81-2.81c.8-.78.8-2.07 0-2.86zM5.41 20L4 18.59l7.72-7.72 1.47 1.35L5.41 20z\"/>\n",
              "  </svg>\n",
              "      </button>\n",
              "      \n",
              "  <style>\n",
              "    .colab-df-container {\n",
              "      display:flex;\n",
              "      flex-wrap:wrap;\n",
              "      gap: 12px;\n",
              "    }\n",
              "\n",
              "    .colab-df-convert {\n",
              "      background-color: #E8F0FE;\n",
              "      border: none;\n",
              "      border-radius: 50%;\n",
              "      cursor: pointer;\n",
              "      display: none;\n",
              "      fill: #1967D2;\n",
              "      height: 32px;\n",
              "      padding: 0 0 0 0;\n",
              "      width: 32px;\n",
              "    }\n",
              "\n",
              "    .colab-df-convert:hover {\n",
              "      background-color: #E2EBFA;\n",
              "      box-shadow: 0px 1px 2px rgba(60, 64, 67, 0.3), 0px 1px 3px 1px rgba(60, 64, 67, 0.15);\n",
              "      fill: #174EA6;\n",
              "    }\n",
              "\n",
              "    [theme=dark] .colab-df-convert {\n",
              "      background-color: #3B4455;\n",
              "      fill: #D2E3FC;\n",
              "    }\n",
              "\n",
              "    [theme=dark] .colab-df-convert:hover {\n",
              "      background-color: #434B5C;\n",
              "      box-shadow: 0px 1px 3px 1px rgba(0, 0, 0, 0.15);\n",
              "      filter: drop-shadow(0px 1px 2px rgba(0, 0, 0, 0.3));\n",
              "      fill: #FFFFFF;\n",
              "    }\n",
              "  </style>\n",
              "\n",
              "      <script>\n",
              "        const buttonEl =\n",
              "          document.querySelector('#df-1934a7bb-5091-4367-8c11-77a57f6051f9 button.colab-df-convert');\n",
              "        buttonEl.style.display =\n",
              "          google.colab.kernel.accessAllowed ? 'block' : 'none';\n",
              "\n",
              "        async function convertToInteractive(key) {\n",
              "          const element = document.querySelector('#df-1934a7bb-5091-4367-8c11-77a57f6051f9');\n",
              "          const dataTable =\n",
              "            await google.colab.kernel.invokeFunction('convertToInteractive',\n",
              "                                                     [key], {});\n",
              "          if (!dataTable) return;\n",
              "\n",
              "          const docLinkHtml = 'Like what you see? Visit the ' +\n",
              "            '<a target=\"_blank\" href=https://colab.research.google.com/notebooks/data_table.ipynb>data table notebook</a>'\n",
              "            + ' to learn more about interactive tables.';\n",
              "          element.innerHTML = '';\n",
              "          dataTable['output_type'] = 'display_data';\n",
              "          await google.colab.output.renderOutput(dataTable, element);\n",
              "          const docLink = document.createElement('div');\n",
              "          docLink.innerHTML = docLinkHtml;\n",
              "          element.appendChild(docLink);\n",
              "        }\n",
              "      </script>\n",
              "    </div>\n",
              "  </div>\n",
              "  "
            ],
            "text/plain": [
              "   customerID  gender  SeniorCitizen Partner Dependents  tenure PhoneService  \\\n",
              "0  7590-VHVEG  Female              0     Yes         No       1           No   \n",
              "1  5575-GNVDE    Male              0      No         No      34          Yes   \n",
              "2  3668-QPYBK    Male              0      No         No       2          Yes   \n",
              "3  7795-CFOCW    Male              0      No         No      45           No   \n",
              "4  9237-HQITU  Female              0      No         No       2          Yes   \n",
              "\n",
              "      MultipleLines InternetService OnlineSecurity  ... DeviceProtection  \\\n",
              "0  No phone service             DSL             No  ...               No   \n",
              "1                No             DSL            Yes  ...              Yes   \n",
              "2                No             DSL            Yes  ...               No   \n",
              "3  No phone service             DSL            Yes  ...              Yes   \n",
              "4                No     Fiber optic             No  ...               No   \n",
              "\n",
              "  TechSupport StreamingTV StreamingMovies        Contract PaperlessBilling  \\\n",
              "0          No          No              No  Month-to-month              Yes   \n",
              "1          No          No              No        One year               No   \n",
              "2          No          No              No  Month-to-month              Yes   \n",
              "3         Yes          No              No        One year               No   \n",
              "4          No          No              No  Month-to-month              Yes   \n",
              "\n",
              "               PaymentMethod MonthlyCharges  TotalCharges Churn  \n",
              "0           Electronic check          29.85         29.85    No  \n",
              "1               Mailed check          56.95        1889.5    No  \n",
              "2               Mailed check          53.85        108.15   Yes  \n",
              "3  Bank transfer (automatic)          42.30       1840.75    No  \n",
              "4           Electronic check          70.70        151.65   Yes  \n",
              "\n",
              "[5 rows x 21 columns]"
            ]
          },
          "execution_count": 2,
          "metadata": {},
          "output_type": "execute_result"
        }
      ],
      "source": [
        "churn = pd.read_csv('/content/Telco-Customer-Churn.csv')\n",
        "\n",
        "churn.head()"
      ]
    },
    {
      "cell_type": "markdown",
      "metadata": {
        "id": "nncMmRGfysX1"
      },
      "source": [
        "### 1. Exploratory Data Analysis -> Find Problem in dataset"
      ]
    },
    {
      "cell_type": "markdown",
      "metadata": {
        "id": "Kh5jhULFy_75"
      },
      "source": [
        "##### Check Typo & data type"
      ]
    },
    {
      "cell_type": "code",
      "execution_count": null,
      "metadata": {
        "colab": {
          "base_uri": "https://localhost:8080/"
        },
        "id": "kRQfudjpxoJP",
        "outputId": "35d05fce-3582-477a-f9d8-fb2dae37794c"
      },
      "outputs": [
        {
          "name": "stdout",
          "output_type": "stream",
          "text": [
            "<class 'pandas.core.frame.DataFrame'>\n",
            "RangeIndex: 7043 entries, 0 to 7042\n",
            "Data columns (total 21 columns):\n",
            " #   Column            Non-Null Count  Dtype  \n",
            "---  ------            --------------  -----  \n",
            " 0   customerID        7043 non-null   object \n",
            " 1   gender            7043 non-null   object \n",
            " 2   SeniorCitizen     7043 non-null   int64  \n",
            " 3   Partner           7043 non-null   object \n",
            " 4   Dependents        7043 non-null   object \n",
            " 5   tenure            7043 non-null   int64  \n",
            " 6   PhoneService      7043 non-null   object \n",
            " 7   MultipleLines     7043 non-null   object \n",
            " 8   InternetService   7043 non-null   object \n",
            " 9   OnlineSecurity    7043 non-null   object \n",
            " 10  OnlineBackup      7043 non-null   object \n",
            " 11  DeviceProtection  7043 non-null   object \n",
            " 12  TechSupport       7043 non-null   object \n",
            " 13  StreamingTV       7043 non-null   object \n",
            " 14  StreamingMovies   7043 non-null   object \n",
            " 15  Contract          7043 non-null   object \n",
            " 16  PaperlessBilling  7043 non-null   object \n",
            " 17  PaymentMethod     7043 non-null   object \n",
            " 18  MonthlyCharges    7043 non-null   float64\n",
            " 19  TotalCharges      7043 non-null   object \n",
            " 20  Churn             7043 non-null   object \n",
            "dtypes: float64(1), int64(2), object(18)\n",
            "memory usage: 1.1+ MB\n"
          ]
        }
      ],
      "source": [
        "churn.info()"
      ]
    },
    {
      "cell_type": "code",
      "execution_count": null,
      "metadata": {
        "colab": {
          "base_uri": "https://localhost:8080/",
          "height": 614
        },
        "id": "WxrvHV93zSwK",
        "outputId": "f12c18f3-83f4-4f62-c8ed-eb0390dd2972"
      },
      "outputs": [
        {
          "data": {
            "text/html": [
              "\n",
              "  <div id=\"df-3707ffdf-4365-4240-8579-399c81aaac92\">\n",
              "    <div class=\"colab-df-container\">\n",
              "      <div>\n",
              "<style scoped>\n",
              "    .dataframe tbody tr th:only-of-type {\n",
              "        vertical-align: middle;\n",
              "    }\n",
              "\n",
              "    .dataframe tbody tr th {\n",
              "        vertical-align: top;\n",
              "    }\n",
              "\n",
              "    .dataframe thead th {\n",
              "        text-align: right;\n",
              "    }\n",
              "</style>\n",
              "<table border=\"1\" class=\"dataframe\">\n",
              "  <thead>\n",
              "    <tr style=\"text-align: right;\">\n",
              "      <th></th>\n",
              "      <th>Column</th>\n",
              "      <th>N-Unique</th>\n",
              "      <th>Unique</th>\n",
              "    </tr>\n",
              "  </thead>\n",
              "  <tbody>\n",
              "    <tr>\n",
              "      <th>0</th>\n",
              "      <td>customerID</td>\n",
              "      <td>7043</td>\n",
              "      <td>[7590-VHVEG, 5575-GNVDE, 3668-QPYBK, 7795-CFOC...</td>\n",
              "    </tr>\n",
              "    <tr>\n",
              "      <th>1</th>\n",
              "      <td>gender</td>\n",
              "      <td>2</td>\n",
              "      <td>[Female, Male]</td>\n",
              "    </tr>\n",
              "    <tr>\n",
              "      <th>2</th>\n",
              "      <td>Partner</td>\n",
              "      <td>2</td>\n",
              "      <td>[Yes, No]</td>\n",
              "    </tr>\n",
              "    <tr>\n",
              "      <th>3</th>\n",
              "      <td>Dependents</td>\n",
              "      <td>2</td>\n",
              "      <td>[No, Yes]</td>\n",
              "    </tr>\n",
              "    <tr>\n",
              "      <th>4</th>\n",
              "      <td>PhoneService</td>\n",
              "      <td>2</td>\n",
              "      <td>[No, Yes]</td>\n",
              "    </tr>\n",
              "    <tr>\n",
              "      <th>5</th>\n",
              "      <td>MultipleLines</td>\n",
              "      <td>3</td>\n",
              "      <td>[No phone service, No, Yes]</td>\n",
              "    </tr>\n",
              "    <tr>\n",
              "      <th>6</th>\n",
              "      <td>InternetService</td>\n",
              "      <td>3</td>\n",
              "      <td>[DSL, Fiber optic, No]</td>\n",
              "    </tr>\n",
              "    <tr>\n",
              "      <th>7</th>\n",
              "      <td>OnlineSecurity</td>\n",
              "      <td>3</td>\n",
              "      <td>[No, Yes, No internet service]</td>\n",
              "    </tr>\n",
              "    <tr>\n",
              "      <th>8</th>\n",
              "      <td>OnlineBackup</td>\n",
              "      <td>3</td>\n",
              "      <td>[Yes, No, No internet service]</td>\n",
              "    </tr>\n",
              "    <tr>\n",
              "      <th>9</th>\n",
              "      <td>DeviceProtection</td>\n",
              "      <td>3</td>\n",
              "      <td>[No, Yes, No internet service]</td>\n",
              "    </tr>\n",
              "    <tr>\n",
              "      <th>10</th>\n",
              "      <td>TechSupport</td>\n",
              "      <td>3</td>\n",
              "      <td>[No, Yes, No internet service]</td>\n",
              "    </tr>\n",
              "    <tr>\n",
              "      <th>11</th>\n",
              "      <td>StreamingTV</td>\n",
              "      <td>3</td>\n",
              "      <td>[No, Yes, No internet service]</td>\n",
              "    </tr>\n",
              "    <tr>\n",
              "      <th>12</th>\n",
              "      <td>StreamingMovies</td>\n",
              "      <td>3</td>\n",
              "      <td>[No, Yes, No internet service]</td>\n",
              "    </tr>\n",
              "    <tr>\n",
              "      <th>13</th>\n",
              "      <td>Contract</td>\n",
              "      <td>3</td>\n",
              "      <td>[Month-to-month, One year, Two year]</td>\n",
              "    </tr>\n",
              "    <tr>\n",
              "      <th>14</th>\n",
              "      <td>PaperlessBilling</td>\n",
              "      <td>2</td>\n",
              "      <td>[Yes, No]</td>\n",
              "    </tr>\n",
              "    <tr>\n",
              "      <th>15</th>\n",
              "      <td>PaymentMethod</td>\n",
              "      <td>4</td>\n",
              "      <td>[Electronic check, Mailed check, Bank transfer...</td>\n",
              "    </tr>\n",
              "    <tr>\n",
              "      <th>16</th>\n",
              "      <td>TotalCharges</td>\n",
              "      <td>6531</td>\n",
              "      <td>[29.85, 1889.5, 108.15, 1840.75, 151.65, 820.5...</td>\n",
              "    </tr>\n",
              "    <tr>\n",
              "      <th>17</th>\n",
              "      <td>Churn</td>\n",
              "      <td>2</td>\n",
              "      <td>[No, Yes]</td>\n",
              "    </tr>\n",
              "  </tbody>\n",
              "</table>\n",
              "</div>\n",
              "      <button class=\"colab-df-convert\" onclick=\"convertToInteractive('df-3707ffdf-4365-4240-8579-399c81aaac92')\"\n",
              "              title=\"Convert this dataframe to an interactive table.\"\n",
              "              style=\"display:none;\">\n",
              "        \n",
              "  <svg xmlns=\"http://www.w3.org/2000/svg\" height=\"24px\"viewBox=\"0 0 24 24\"\n",
              "       width=\"24px\">\n",
              "    <path d=\"M0 0h24v24H0V0z\" fill=\"none\"/>\n",
              "    <path d=\"M18.56 5.44l.94 2.06.94-2.06 2.06-.94-2.06-.94-.94-2.06-.94 2.06-2.06.94zm-11 1L8.5 8.5l.94-2.06 2.06-.94-2.06-.94L8.5 2.5l-.94 2.06-2.06.94zm10 10l.94 2.06.94-2.06 2.06-.94-2.06-.94-.94-2.06-.94 2.06-2.06.94z\"/><path d=\"M17.41 7.96l-1.37-1.37c-.4-.4-.92-.59-1.43-.59-.52 0-1.04.2-1.43.59L10.3 9.45l-7.72 7.72c-.78.78-.78 2.05 0 2.83L4 21.41c.39.39.9.59 1.41.59.51 0 1.02-.2 1.41-.59l7.78-7.78 2.81-2.81c.8-.78.8-2.07 0-2.86zM5.41 20L4 18.59l7.72-7.72 1.47 1.35L5.41 20z\"/>\n",
              "  </svg>\n",
              "      </button>\n",
              "      \n",
              "  <style>\n",
              "    .colab-df-container {\n",
              "      display:flex;\n",
              "      flex-wrap:wrap;\n",
              "      gap: 12px;\n",
              "    }\n",
              "\n",
              "    .colab-df-convert {\n",
              "      background-color: #E8F0FE;\n",
              "      border: none;\n",
              "      border-radius: 50%;\n",
              "      cursor: pointer;\n",
              "      display: none;\n",
              "      fill: #1967D2;\n",
              "      height: 32px;\n",
              "      padding: 0 0 0 0;\n",
              "      width: 32px;\n",
              "    }\n",
              "\n",
              "    .colab-df-convert:hover {\n",
              "      background-color: #E2EBFA;\n",
              "      box-shadow: 0px 1px 2px rgba(60, 64, 67, 0.3), 0px 1px 3px 1px rgba(60, 64, 67, 0.15);\n",
              "      fill: #174EA6;\n",
              "    }\n",
              "\n",
              "    [theme=dark] .colab-df-convert {\n",
              "      background-color: #3B4455;\n",
              "      fill: #D2E3FC;\n",
              "    }\n",
              "\n",
              "    [theme=dark] .colab-df-convert:hover {\n",
              "      background-color: #434B5C;\n",
              "      box-shadow: 0px 1px 3px 1px rgba(0, 0, 0, 0.15);\n",
              "      filter: drop-shadow(0px 1px 2px rgba(0, 0, 0, 0.3));\n",
              "      fill: #FFFFFF;\n",
              "    }\n",
              "  </style>\n",
              "\n",
              "      <script>\n",
              "        const buttonEl =\n",
              "          document.querySelector('#df-3707ffdf-4365-4240-8579-399c81aaac92 button.colab-df-convert');\n",
              "        buttonEl.style.display =\n",
              "          google.colab.kernel.accessAllowed ? 'block' : 'none';\n",
              "\n",
              "        async function convertToInteractive(key) {\n",
              "          const element = document.querySelector('#df-3707ffdf-4365-4240-8579-399c81aaac92');\n",
              "          const dataTable =\n",
              "            await google.colab.kernel.invokeFunction('convertToInteractive',\n",
              "                                                     [key], {});\n",
              "          if (!dataTable) return;\n",
              "\n",
              "          const docLinkHtml = 'Like what you see? Visit the ' +\n",
              "            '<a target=\"_blank\" href=https://colab.research.google.com/notebooks/data_table.ipynb>data table notebook</a>'\n",
              "            + ' to learn more about interactive tables.';\n",
              "          element.innerHTML = '';\n",
              "          dataTable['output_type'] = 'display_data';\n",
              "          await google.colab.output.renderOutput(dataTable, element);\n",
              "          const docLink = document.createElement('div');\n",
              "          docLink.innerHTML = docLinkHtml;\n",
              "          element.appendChild(docLink);\n",
              "        }\n",
              "      </script>\n",
              "    </div>\n",
              "  </div>\n",
              "  "
            ],
            "text/plain": [
              "              Column  N-Unique  \\\n",
              "0         customerID      7043   \n",
              "1             gender         2   \n",
              "2            Partner         2   \n",
              "3         Dependents         2   \n",
              "4       PhoneService         2   \n",
              "5      MultipleLines         3   \n",
              "6    InternetService         3   \n",
              "7     OnlineSecurity         3   \n",
              "8       OnlineBackup         3   \n",
              "9   DeviceProtection         3   \n",
              "10       TechSupport         3   \n",
              "11       StreamingTV         3   \n",
              "12   StreamingMovies         3   \n",
              "13          Contract         3   \n",
              "14  PaperlessBilling         2   \n",
              "15     PaymentMethod         4   \n",
              "16      TotalCharges      6531   \n",
              "17             Churn         2   \n",
              "\n",
              "                                               Unique  \n",
              "0   [7590-VHVEG, 5575-GNVDE, 3668-QPYBK, 7795-CFOC...  \n",
              "1                                      [Female, Male]  \n",
              "2                                           [Yes, No]  \n",
              "3                                           [No, Yes]  \n",
              "4                                           [No, Yes]  \n",
              "5                         [No phone service, No, Yes]  \n",
              "6                              [DSL, Fiber optic, No]  \n",
              "7                      [No, Yes, No internet service]  \n",
              "8                      [Yes, No, No internet service]  \n",
              "9                      [No, Yes, No internet service]  \n",
              "10                     [No, Yes, No internet service]  \n",
              "11                     [No, Yes, No internet service]  \n",
              "12                     [No, Yes, No internet service]  \n",
              "13               [Month-to-month, One year, Two year]  \n",
              "14                                          [Yes, No]  \n",
              "15  [Electronic check, Mailed check, Bank transfer...  \n",
              "16  [29.85, 1889.5, 108.15, 1840.75, 151.65, 820.5...  \n",
              "17                                          [No, Yes]  "
            ]
          },
          "execution_count": 4,
          "metadata": {},
          "output_type": "execute_result"
        }
      ],
      "source": [
        "unique_list = [churn[column].unique() for column in churn.select_dtypes('O').columns]\n",
        "nunique_list = [churn[column].nunique() for column in churn.select_dtypes('O').columns]\n",
        "\n",
        "unique_df = pd.DataFrame({'Column': churn.select_dtypes('O').columns, 'N-Unique': nunique_list, 'Unique':unique_list})\n",
        "unique_df"
      ]
    },
    {
      "cell_type": "markdown",
      "metadata": {
        "id": "zSrRO5Ru0-VM"
      },
      "source": [
        "- Data kategori berisi data nominal dan memiliki kategori yang tidak brgitu banyak -> OneHot Encoding\n",
        "- Total Charges -> Float (bukan object)\n",
        "- Total Charges -> Object : Di dalam kolom TotalCharges terdapat value yang bukan angka"
      ]
    },
    {
      "cell_type": "code",
      "execution_count": null,
      "metadata": {
        "id": "ZgIemlZH0OOV"
      },
      "outputs": [],
      "source": [
        "churn['TotalCharges'] = pd.to_numeric(churn['TotalCharges'], errors='coerce')"
      ]
    },
    {
      "cell_type": "markdown",
      "metadata": {
        "id": "sc7jk64Y2ifu"
      },
      "source": [
        "##### Check Missing Value"
      ]
    },
    {
      "cell_type": "code",
      "execution_count": null,
      "metadata": {
        "colab": {
          "base_uri": "https://localhost:8080/"
        },
        "id": "0EqyFFLj2dkg",
        "outputId": "7bc071f0-89fe-46a4-8fcf-91c12389c304"
      },
      "outputs": [
        {
          "data": {
            "text/plain": [
              "customerID           0\n",
              "gender               0\n",
              "SeniorCitizen        0\n",
              "Partner              0\n",
              "Dependents           0\n",
              "tenure               0\n",
              "PhoneService         0\n",
              "MultipleLines        0\n",
              "InternetService      0\n",
              "OnlineSecurity       0\n",
              "OnlineBackup         0\n",
              "DeviceProtection     0\n",
              "TechSupport          0\n",
              "StreamingTV          0\n",
              "StreamingMovies      0\n",
              "Contract             0\n",
              "PaperlessBilling     0\n",
              "PaymentMethod        0\n",
              "MonthlyCharges       0\n",
              "TotalCharges        11\n",
              "Churn                0\n",
              "dtype: int64"
            ]
          },
          "execution_count": 6,
          "metadata": {},
          "output_type": "execute_result"
        }
      ],
      "source": [
        "churn.isnull().sum()"
      ]
    },
    {
      "cell_type": "markdown",
      "metadata": {
        "id": "ZlQsPLUH23MI"
      },
      "source": [
        "Terdapat missing value"
      ]
    },
    {
      "cell_type": "code",
      "execution_count": null,
      "metadata": {
        "id": "QWZ3Fqbj25xU"
      },
      "outputs": [],
      "source": [
        "churn.dropna(inplace=True)"
      ]
    },
    {
      "cell_type": "markdown",
      "metadata": {
        "id": "N5ymM5Og3JSF"
      },
      "source": [
        "##### Check Imbalance"
      ]
    },
    {
      "cell_type": "code",
      "execution_count": null,
      "metadata": {
        "colab": {
          "base_uri": "https://localhost:8080/",
          "height": 497
        },
        "id": "wu3BsF9E3SxS",
        "outputId": "e177a676-055b-4b2f-901a-ece2e64c82fe"
      },
      "outputs": [
        {
          "data": {
            "image/png": "[encoded data removed]",
            "text/plain": [
              "<Figure size 720x576 with 1 Axes>"
            ]
          },
          "metadata": {
            "needs_background": "light"
          },
          "output_type": "display_data"
        }
      ],
      "source": [
        "plt.figure(figsize=(10, 8))\n",
        "sns.countplot(x=churn['Churn'])\n",
        "plt.show()"
      ]
    },
    {
      "cell_type": "markdown",
      "metadata": {
        "id": "OT9HI5gv3kg1"
      },
      "source": [
        "Terjadi data imbalance:\n",
        "- Resampling (Under/Over) -> Smote\n",
        "- Algorithm -> Class_weight = balance"
      ]
    },
    {
      "cell_type": "markdown",
      "metadata": {
        "id": "5O-iO6eZ3-o8"
      },
      "source": [
        "##### Check descriptive analytics"
      ]
    },
    {
      "cell_type": "code",
      "execution_count": null,
      "metadata": {
        "colab": {
          "base_uri": "https://localhost:8080/",
          "height": 300
        },
        "id": "_65CF8xT4CqC",
        "outputId": "651a0856-d3e2-4dbe-fd7e-923c645aba96"
      },
      "outputs": [
        {
          "data": {
            "text/html": [
              "\n",
              "  <div id=\"df-c0fc1683-941e-4118-8a98-6e339ea46b33\">\n",
              "    <div class=\"colab-df-container\">\n",
              "      <div>\n",
              "<style scoped>\n",
              "    .dataframe tbody tr th:only-of-type {\n",
              "        vertical-align: middle;\n",
              "    }\n",
              "\n",
              "    .dataframe tbody tr th {\n",
              "        vertical-align: top;\n",
              "    }\n",
              "\n",
              "    .dataframe thead th {\n",
              "        text-align: right;\n",
              "    }\n",
              "</style>\n",
              "<table border=\"1\" class=\"dataframe\">\n",
              "  <thead>\n",
              "    <tr style=\"text-align: right;\">\n",
              "      <th></th>\n",
              "      <th>SeniorCitizen</th>\n",
              "      <th>tenure</th>\n",
              "      <th>MonthlyCharges</th>\n",
              "      <th>TotalCharges</th>\n",
              "    </tr>\n",
              "  </thead>\n",
              "  <tbody>\n",
              "    <tr>\n",
              "      <th>count</th>\n",
              "      <td>7032.000000</td>\n",
              "      <td>7032.000000</td>\n",
              "      <td>7032.000000</td>\n",
              "      <td>7032.000000</td>\n",
              "    </tr>\n",
              "    <tr>\n",
              "      <th>mean</th>\n",
              "      <td>0.162400</td>\n",
              "      <td>32.421786</td>\n",
              "      <td>64.798208</td>\n",
              "      <td>2283.300441</td>\n",
              "    </tr>\n",
              "    <tr>\n",
              "      <th>std</th>\n",
              "      <td>0.368844</td>\n",
              "      <td>24.545260</td>\n",
              "      <td>30.085974</td>\n",
              "      <td>2266.771362</td>\n",
              "    </tr>\n",
              "    <tr>\n",
              "      <th>min</th>\n",
              "      <td>0.000000</td>\n",
              "      <td>1.000000</td>\n",
              "      <td>18.250000</td>\n",
              "      <td>18.800000</td>\n",
              "    </tr>\n",
              "    <tr>\n",
              "      <th>25%</th>\n",
              "      <td>0.000000</td>\n",
              "      <td>9.000000</td>\n",
              "      <td>35.587500</td>\n",
              "      <td>401.450000</td>\n",
              "    </tr>\n",
              "    <tr>\n",
              "      <th>50%</th>\n",
              "      <td>0.000000</td>\n",
              "      <td>29.000000</td>\n",
              "      <td>70.350000</td>\n",
              "      <td>1397.475000</td>\n",
              "    </tr>\n",
              "    <tr>\n",
              "      <th>75%</th>\n",
              "      <td>0.000000</td>\n",
              "      <td>55.000000</td>\n",
              "      <td>89.862500</td>\n",
              "      <td>3794.737500</td>\n",
              "    </tr>\n",
              "    <tr>\n",
              "      <th>max</th>\n",
              "      <td>1.000000</td>\n",
              "      <td>72.000000</td>\n",
              "      <td>118.750000</td>\n",
              "      <td>8684.800000</td>\n",
              "    </tr>\n",
              "  </tbody>\n",
              "</table>\n",
              "</div>\n",
              "      <button class=\"colab-df-convert\" onclick=\"convertToInteractive('df-c0fc1683-941e-4118-8a98-6e339ea46b33')\"\n",
              "              title=\"Convert this dataframe to an interactive table.\"\n",
              "              style=\"display:none;\">\n",
              "        \n",
              "  <svg xmlns=\"http://www.w3.org/2000/svg\" height=\"24px\"viewBox=\"0 0 24 24\"\n",
              "       width=\"24px\">\n",
              "    <path d=\"M0 0h24v24H0V0z\" fill=\"none\"/>\n",
              "    <path d=\"M18.56 5.44l.94 2.06.94-2.06 2.06-.94-2.06-.94-.94-2.06-.94 2.06-2.06.94zm-11 1L8.5 8.5l.94-2.06 2.06-.94-2.06-.94L8.5 2.5l-.94 2.06-2.06.94zm10 10l.94 2.06.94-2.06 2.06-.94-2.06-.94-.94-2.06-.94 2.06-2.06.94z\"/><path d=\"M17.41 7.96l-1.37-1.37c-.4-.4-.92-.59-1.43-.59-.52 0-1.04.2-1.43.59L10.3 9.45l-7.72 7.72c-.78.78-.78 2.05 0 2.83L4 21.41c.39.39.9.59 1.41.59.51 0 1.02-.2 1.41-.59l7.78-7.78 2.81-2.81c.8-.78.8-2.07 0-2.86zM5.41 20L4 18.59l7.72-7.72 1.47 1.35L5.41 20z\"/>\n",
              "  </svg>\n",
              "      </button>\n",
              "      \n",
              "  <style>\n",
              "    .colab-df-container {\n",
              "      display:flex;\n",
              "      flex-wrap:wrap;\n",
              "      gap: 12px;\n",
              "    }\n",
              "\n",
              "    .colab-df-convert {\n",
              "      background-color: #E8F0FE;\n",
              "      border: none;\n",
              "      border-radius: 50%;\n",
              "      cursor: pointer;\n",
              "      display: none;\n",
              "      fill: #1967D2;\n",
              "      height: 32px;\n",
              "      padding: 0 0 0 0;\n",
              "      width: 32px;\n",
              "    }\n",
              "\n",
              "    .colab-df-convert:hover {\n",
              "      background-color: #E2EBFA;\n",
              "      box-shadow: 0px 1px 2px rgba(60, 64, 67, 0.3), 0px 1px 3px 1px rgba(60, 64, 67, 0.15);\n",
              "      fill: #174EA6;\n",
              "    }\n",
              "\n",
              "    [theme=dark] .colab-df-convert {\n",
              "      background-color: #3B4455;\n",
              "      fill: #D2E3FC;\n",
              "    }\n",
              "\n",
              "    [theme=dark] .colab-df-convert:hover {\n",
              "      background-color: #434B5C;\n",
              "      box-shadow: 0px 1px 3px 1px rgba(0, 0, 0, 0.15);\n",
              "      filter: drop-shadow(0px 1px 2px rgba(0, 0, 0, 0.3));\n",
              "      fill: #FFFFFF;\n",
              "    }\n",
              "  </style>\n",
              "\n",
              "      <script>\n",
              "        const buttonEl =\n",
              "          document.querySelector('#df-c0fc1683-941e-4118-8a98-6e339ea46b33 button.colab-df-convert');\n",
              "        buttonEl.style.display =\n",
              "          google.colab.kernel.accessAllowed ? 'block' : 'none';\n",
              "\n",
              "        async function convertToInteractive(key) {\n",
              "          const element = document.querySelector('#df-c0fc1683-941e-4118-8a98-6e339ea46b33');\n",
              "          const dataTable =\n",
              "            await google.colab.kernel.invokeFunction('convertToInteractive',\n",
              "                                                     [key], {});\n",
              "          if (!dataTable) return;\n",
              "\n",
              "          const docLinkHtml = 'Like what you see? Visit the ' +\n",
              "            '<a target=\"_blank\" href=https://colab.research.google.com/notebooks/data_table.ipynb>data table notebook</a>'\n",
              "            + ' to learn more about interactive tables.';\n",
              "          element.innerHTML = '';\n",
              "          dataTable['output_type'] = 'display_data';\n",
              "          await google.colab.output.renderOutput(dataTable, element);\n",
              "          const docLink = document.createElement('div');\n",
              "          docLink.innerHTML = docLinkHtml;\n",
              "          element.appendChild(docLink);\n",
              "        }\n",
              "      </script>\n",
              "    </div>\n",
              "  </div>\n",
              "  "
            ],
            "text/plain": [
              "       SeniorCitizen       tenure  MonthlyCharges  TotalCharges\n",
              "count    7032.000000  7032.000000     7032.000000   7032.000000\n",
              "mean        0.162400    32.421786       64.798208   2283.300441\n",
              "std         0.368844    24.545260       30.085974   2266.771362\n",
              "min         0.000000     1.000000       18.250000     18.800000\n",
              "25%         0.000000     9.000000       35.587500    401.450000\n",
              "50%         0.000000    29.000000       70.350000   1397.475000\n",
              "75%         0.000000    55.000000       89.862500   3794.737500\n",
              "max         1.000000    72.000000      118.750000   8684.800000"
            ]
          },
          "execution_count": 9,
          "metadata": {},
          "output_type": "execute_result"
        }
      ],
      "source": [
        "churn.describe()"
      ]
    },
    {
      "cell_type": "markdown",
      "metadata": {
        "id": "8VOFzJ_V4ep0"
      },
      "source": [
        "##### Check Distributions (variable Numeric)"
      ]
    },
    {
      "cell_type": "code",
      "execution_count": null,
      "metadata": {
        "colab": {
          "base_uri": "https://localhost:8080/",
          "height": 334
        },
        "id": "S4S_P9Vk4j98",
        "outputId": "4b03cb68-f22b-4e29-8de1-f8b6c67abfb7"
      },
      "outputs": [
        {
          "data": {
            "image/png": "[encoded data removed]",
            "text/plain": [
              "<Figure size 1080x360 with 3 Axes>"
            ]
          },
          "metadata": {
            "needs_background": "light"
          },
          "output_type": "display_data"
        }
      ],
      "source": [
        "fig, axes = plt.subplots(1, 3, figsize=(15, 5))\n",
        "\n",
        "sns.histplot(churn['tenure'], ax=axes[0])\n",
        "sns.histplot(churn['MonthlyCharges'], ax=axes[1])\n",
        "sns.histplot(churn['TotalCharges'], ax=axes[2])\n",
        "\n",
        "plt.show()"
      ]
    },
    {
      "cell_type": "markdown",
      "metadata": {
        "id": "IQbC0TrP6A2r"
      },
      "source": [
        "##### Check Outlier"
      ]
    },
    {
      "cell_type": "code",
      "execution_count": null,
      "metadata": {
        "colab": {
          "base_uri": "https://localhost:8080/",
          "height": 320
        },
        "id": "Hd3xa_w-5-AC",
        "outputId": "3e98a14e-8913-410b-b78c-e306bfe07dd5"
      },
      "outputs": [
        {
          "data": {
            "image/png": "[encoded data removed]",
            "text/plain": [
              "<Figure size 1080x360 with 3 Axes>"
            ]
          },
          "metadata": {
            "needs_background": "light"
          },
          "output_type": "display_data"
        }
      ],
      "source": [
        "fig, axes = plt.subplots(1, 3, figsize=(15, 5))\n",
        "\n",
        "sns.boxplot(data = churn['tenure'], ax=axes[0])\n",
        "sns.boxplot(data = churn['MonthlyCharges'], ax=axes[1])\n",
        "sns.boxplot(data = churn['TotalCharges'], ax=axes[2])\n",
        "\n",
        "plt.show()"
      ]
    },
    {
      "cell_type": "markdown",
      "metadata": {
        "id": "IpgklhfP7R0-"
      },
      "source": [
        "### 2. Data Preparation and feature engineering"
      ]
    },
    {
      "cell_type": "markdown",
      "metadata": {
        "id": "FYhbj8IH9geR"
      },
      "source": [
        "Untuk tahap validation dan evaluation kita bagi data menjadi 3: Data Train, Data Validation dan Data Test"
      ]
    },
    {
      "cell_type": "markdown",
      "metadata": {
        "id": "NiSUHHeV9ywv"
      },
      "source": [
        "##### Define features and target"
      ]
    },
    {
      "cell_type": "code",
      "execution_count": null,
      "metadata": {
        "id": "gi5nOf9i7YD8"
      },
      "outputs": [],
      "source": [
        "target = np.where(churn['Churn'] == \"Yes\", 1, 0) \n",
        "features = churn.drop(columns=['Churn', 'customerID'])"
      ]
    },
    {
      "cell_type": "code",
      "execution_count": null,
      "metadata": {
        "colab": {
          "base_uri": "https://localhost:8080/"
        },
        "id": "JItxw0OK-cTE",
        "outputId": "22689265-22db-45d1-8490-3c5f0b63cd09"
      },
      "outputs": [
        {
          "data": {
            "text/plain": [
              "array([0, 0, 1, ..., 0, 1, 0])"
            ]
          },
          "execution_count": 13,
          "metadata": {},
          "output_type": "execute_result"
        }
      ],
      "source": [
        "target"
      ]
    },
    {
      "cell_type": "code",
      "execution_count": null,
      "metadata": {
        "colab": {
          "base_uri": "https://localhost:8080/"
        },
        "id": "FYVMf-7c-d6N",
        "outputId": "9ebd1f77-c9b5-40ae-f1e6-2d839b993acd"
      },
      "outputs": [
        {
          "data": {
            "text/plain": [
              "(7032, 19)"
            ]
          },
          "execution_count": 14,
          "metadata": {},
          "output_type": "execute_result"
        }
      ],
      "source": [
        "features.shape"
      ]
    },
    {
      "cell_type": "markdown",
      "metadata": {
        "id": "RgQDdmB4-xCq"
      },
      "source": [
        "##### Splitting"
      ]
    },
    {
      "cell_type": "code",
      "execution_count": null,
      "metadata": {
        "colab": {
          "base_uri": "https://localhost:8080/"
        },
        "id": "XbF-uIjC-0JK",
        "outputId": "2d6274aa-90f7-44fd-e1f3-92ad6caae24c"
      },
      "outputs": [
        {
          "name": "stdout",
          "output_type": "stream",
          "text": [
            "(5625, 19)\n",
            "(5625,)\n"
          ]
        }
      ],
      "source": [
        "X_train_val, X_test, y_train_val, y_test = train_test_split(features, target, \n",
        "                                                            test_size=0.2,\n",
        "                                                            random_state=42,\n",
        "                                                            stratify=target)\n",
        "\n",
        "print(X_train_val.shape)\n",
        "print(y_train_val.shape)"
      ]
    },
    {
      "cell_type": "code",
      "execution_count": null,
      "metadata": {
        "colab": {
          "base_uri": "https://localhost:8080/"
        },
        "id": "7R9GWCyw_N8g",
        "outputId": "c783f9e0-08f5-419d-f86e-6ce1dec35207"
      },
      "outputs": [
        {
          "name": "stdout",
          "output_type": "stream",
          "text": [
            "(1407, 19)\n",
            "(1407,)\n"
          ]
        }
      ],
      "source": [
        "print(X_test.shape)\n",
        "print(y_test.shape)"
      ]
    },
    {
      "cell_type": "markdown",
      "metadata": {
        "id": "mNua9Jtmz2Qs"
      },
      "source": [
        "##### Feature Engineering"
      ]
    },
    {
      "cell_type": "code",
      "execution_count": null,
      "metadata": {
        "colab": {
          "base_uri": "https://localhost:8080/"
        },
        "id": "nD0NspZD6vkg",
        "outputId": "019db862-f54b-46df-e90b-0219fae3f639"
      },
      "outputs": [
        {
          "name": "stdout",
          "output_type": "stream",
          "text": [
            "<class 'pandas.core.frame.DataFrame'>\n",
            "Int64Index: 5625 entries, 1413 to 1505\n",
            "Data columns (total 19 columns):\n",
            " #   Column            Non-Null Count  Dtype  \n",
            "---  ------            --------------  -----  \n",
            " 0   gender            5625 non-null   object \n",
            " 1   SeniorCitizen     5625 non-null   int64  \n",
            " 2   Partner           5625 non-null   object \n",
            " 3   Dependents        5625 non-null   object \n",
            " 4   tenure            5625 non-null   int64  \n",
            " 5   PhoneService      5625 non-null   object \n",
            " 6   MultipleLines     5625 non-null   object \n",
            " 7   InternetService   5625 non-null   object \n",
            " 8   OnlineSecurity    5625 non-null   object \n",
            " 9   OnlineBackup      5625 non-null   object \n",
            " 10  DeviceProtection  5625 non-null   object \n",
            " 11  TechSupport       5625 non-null   object \n",
            " 12  StreamingTV       5625 non-null   object \n",
            " 13  StreamingMovies   5625 non-null   object \n",
            " 14  Contract          5625 non-null   object \n",
            " 15  PaperlessBilling  5625 non-null   object \n",
            " 16  PaymentMethod     5625 non-null   object \n",
            " 17  MonthlyCharges    5625 non-null   float64\n",
            " 18  TotalCharges      5625 non-null   float64\n",
            "dtypes: float64(2), int64(2), object(15)\n",
            "memory usage: 878.9+ KB\n"
          ]
        }
      ],
      "source": [
        "X_train_val.info()"
      ]
    },
    {
      "cell_type": "code",
      "execution_count": null,
      "metadata": {
        "colab": {
          "base_uri": "https://localhost:8080/"
        },
        "id": "DVSzncjG7Ast",
        "outputId": "7efbcf8b-fc61-47ed-f5c6-7458549acd6b"
      },
      "outputs": [
        {
          "data": {
            "text/plain": [
              "Index(['gender', 'Partner', 'Dependents', 'PhoneService', 'MultipleLines',\n",
              "       'InternetService', 'OnlineSecurity', 'OnlineBackup', 'DeviceProtection',\n",
              "       'TechSupport', 'StreamingTV', 'StreamingMovies', 'Contract',\n",
              "       'PaperlessBilling', 'PaymentMethod'],\n",
              "      dtype='object')"
            ]
          },
          "execution_count": 18,
          "metadata": {},
          "output_type": "execute_result"
        }
      ],
      "source": [
        "cat_columns = X_train_val.select_dtypes('O').columns\n",
        "cat_columns"
      ]
    },
    {
      "cell_type": "code",
      "execution_count": null,
      "metadata": {
        "colab": {
          "base_uri": "https://localhost:8080/"
        },
        "id": "SPXNPxcK5eQh",
        "outputId": "0836bdab-deaf-4b04-c404-f5dc51fe3022"
      },
      "outputs": [
        {
          "data": {
            "text/plain": [
              "ColumnTransformer(remainder='passthrough',\n",
              "                  transformers=[('OneHotEncoder', OneHotEncoder(drop='first'),\n",
              "                                 Index(['gender', 'Partner', 'Dependents', 'PhoneService', 'MultipleLines',\n",
              "       'InternetService', 'OnlineSecurity', 'OnlineBackup', 'DeviceProtection',\n",
              "       'TechSupport', 'StreamingTV', 'StreamingMovies', 'Contract',\n",
              "       'PaperlessBilling', 'PaymentMethod'],\n",
              "      dtype='object')),\n",
              "                                ('MinMaxScaller', MinMaxScaler(),\n",
              "                                 ['tenure', 'MonthlyCharges', 'TotalCharges'])])"
            ]
          },
          "execution_count": 19,
          "metadata": {},
          "output_type": "execute_result"
        }
      ],
      "source": [
        "# Preprocessing schema\n",
        "\n",
        "ct = ColumnTransformer([('OneHotEncoder', OneHotEncoder(drop='first'), cat_columns),\n",
        "                        ('MinMaxScaller', MinMaxScaler(), ['tenure', 'MonthlyCharges', 'TotalCharges'])], \n",
        "                       remainder='passthrough')\n",
        "\n",
        "ct.fit(X_train_val)"
      ]
    },
    {
      "cell_type": "code",
      "execution_count": null,
      "metadata": {
        "colab": {
          "base_uri": "https://localhost:8080/"
        },
        "id": "J4ypDkC78mdJ",
        "outputId": "be8fa6b0-18b8-41d4-f247-318ed80a4510"
      },
      "outputs": [
        {
          "data": {
            "text/plain": [
              "array([[1.        , 1.        , 1.        , ..., 0.759601  , 0.69927879,\n",
              "        0.        ],\n",
              "       [1.        , 0.        , 0.        , ..., 0.17306733, 0.11582045,\n",
              "        0.        ],\n",
              "       [0.        , 1.        , 0.        , ..., 0.71620948, 0.72453843,\n",
              "        0.        ],\n",
              "       ...,\n",
              "       [0.        , 1.        , 1.        , ..., 0.74314214, 0.38777406,\n",
              "        0.        ],\n",
              "       [0.        , 1.        , 1.        , ..., 0.47381546, 0.07399608,\n",
              "        0.        ],\n",
              "       [1.        , 0.        , 0.        , ..., 0.56159601, 0.0064505 ,\n",
              "        1.        ]])"
            ]
          },
          "execution_count": 20,
          "metadata": {},
          "output_type": "execute_result"
        }
      ],
      "source": [
        "X_train_val_pre = ct.transform(X_train_val)\n",
        "X_train_val_pre"
      ]
    },
    {
      "cell_type": "code",
      "execution_count": null,
      "metadata": {
        "id": "y_eBK0528gfg"
      },
      "outputs": [],
      "source": [
        "columns_name = list(ct.transformers_[0][1].get_feature_names_out()) + ['tenure', 'MonthlyCharges', 'TotalCharges', 'SeniorCitizen']\n",
        "\n",
        "X_train_val_pre_df =  pd.DataFrame(X_train_val_pre, columns=columns_name)"
      ]
    },
    {
      "cell_type": "code",
      "execution_count": null,
      "metadata": {
        "colab": {
          "base_uri": "https://localhost:8080/",
          "height": 317
        },
        "id": "ebVkB7wg9cGc",
        "outputId": "146ae682-1fe5-4c6a-8404-0d3af051e09b"
      },
      "outputs": [
        {
          "data": {
            "text/html": [
              "\n",
              "  <div id=\"df-585f93fa-a5d6-4c29-b9ad-41351250d3ff\">\n",
              "    <div class=\"colab-df-container\">\n",
              "      <div>\n",
              "<style scoped>\n",
              "    .dataframe tbody tr th:only-of-type {\n",
              "        vertical-align: middle;\n",
              "    }\n",
              "\n",
              "    .dataframe tbody tr th {\n",
              "        vertical-align: top;\n",
              "    }\n",
              "\n",
              "    .dataframe thead th {\n",
              "        text-align: right;\n",
              "    }\n",
              "</style>\n",
              "<table border=\"1\" class=\"dataframe\">\n",
              "  <thead>\n",
              "    <tr style=\"text-align: right;\">\n",
              "      <th></th>\n",
              "      <th>gender_Male</th>\n",
              "      <th>Partner_Yes</th>\n",
              "      <th>Dependents_Yes</th>\n",
              "      <th>PhoneService_Yes</th>\n",
              "      <th>MultipleLines_No phone service</th>\n",
              "      <th>MultipleLines_Yes</th>\n",
              "      <th>InternetService_Fiber optic</th>\n",
              "      <th>InternetService_No</th>\n",
              "      <th>OnlineSecurity_No internet service</th>\n",
              "      <th>OnlineSecurity_Yes</th>\n",
              "      <th>...</th>\n",
              "      <th>Contract_One year</th>\n",
              "      <th>Contract_Two year</th>\n",
              "      <th>PaperlessBilling_Yes</th>\n",
              "      <th>PaymentMethod_Credit card (automatic)</th>\n",
              "      <th>PaymentMethod_Electronic check</th>\n",
              "      <th>PaymentMethod_Mailed check</th>\n",
              "      <th>tenure</th>\n",
              "      <th>MonthlyCharges</th>\n",
              "      <th>TotalCharges</th>\n",
              "      <th>SeniorCitizen</th>\n",
              "    </tr>\n",
              "  </thead>\n",
              "  <tbody>\n",
              "    <tr>\n",
              "      <th>0</th>\n",
              "      <td>1.0</td>\n",
              "      <td>1.0</td>\n",
              "      <td>1.0</td>\n",
              "      <td>1.0</td>\n",
              "      <td>0.0</td>\n",
              "      <td>1.0</td>\n",
              "      <td>1.0</td>\n",
              "      <td>0.0</td>\n",
              "      <td>0.0</td>\n",
              "      <td>1.0</td>\n",
              "      <td>...</td>\n",
              "      <td>0.0</td>\n",
              "      <td>1.0</td>\n",
              "      <td>0.0</td>\n",
              "      <td>1.0</td>\n",
              "      <td>0.0</td>\n",
              "      <td>0.0</td>\n",
              "      <td>0.901408</td>\n",
              "      <td>0.759601</td>\n",
              "      <td>0.699279</td>\n",
              "      <td>0.0</td>\n",
              "    </tr>\n",
              "    <tr>\n",
              "      <th>1</th>\n",
              "      <td>1.0</td>\n",
              "      <td>0.0</td>\n",
              "      <td>0.0</td>\n",
              "      <td>0.0</td>\n",
              "      <td>1.0</td>\n",
              "      <td>0.0</td>\n",
              "      <td>0.0</td>\n",
              "      <td>0.0</td>\n",
              "      <td>0.0</td>\n",
              "      <td>0.0</td>\n",
              "      <td>...</td>\n",
              "      <td>0.0</td>\n",
              "      <td>0.0</td>\n",
              "      <td>0.0</td>\n",
              "      <td>0.0</td>\n",
              "      <td>1.0</td>\n",
              "      <td>0.0</td>\n",
              "      <td>0.352113</td>\n",
              "      <td>0.173067</td>\n",
              "      <td>0.115820</td>\n",
              "      <td>0.0</td>\n",
              "    </tr>\n",
              "    <tr>\n",
              "      <th>2</th>\n",
              "      <td>0.0</td>\n",
              "      <td>1.0</td>\n",
              "      <td>0.0</td>\n",
              "      <td>1.0</td>\n",
              "      <td>0.0</td>\n",
              "      <td>1.0</td>\n",
              "      <td>1.0</td>\n",
              "      <td>0.0</td>\n",
              "      <td>0.0</td>\n",
              "      <td>0.0</td>\n",
              "      <td>...</td>\n",
              "      <td>0.0</td>\n",
              "      <td>1.0</td>\n",
              "      <td>0.0</td>\n",
              "      <td>1.0</td>\n",
              "      <td>0.0</td>\n",
              "      <td>0.0</td>\n",
              "      <td>0.943662</td>\n",
              "      <td>0.716209</td>\n",
              "      <td>0.724538</td>\n",
              "      <td>0.0</td>\n",
              "    </tr>\n",
              "    <tr>\n",
              "      <th>3</th>\n",
              "      <td>1.0</td>\n",
              "      <td>0.0</td>\n",
              "      <td>0.0</td>\n",
              "      <td>1.0</td>\n",
              "      <td>0.0</td>\n",
              "      <td>0.0</td>\n",
              "      <td>1.0</td>\n",
              "      <td>0.0</td>\n",
              "      <td>0.0</td>\n",
              "      <td>0.0</td>\n",
              "      <td>...</td>\n",
              "      <td>0.0</td>\n",
              "      <td>0.0</td>\n",
              "      <td>0.0</td>\n",
              "      <td>0.0</td>\n",
              "      <td>1.0</td>\n",
              "      <td>0.0</td>\n",
              "      <td>0.028169</td>\n",
              "      <td>0.657357</td>\n",
              "      <td>0.024954</td>\n",
              "      <td>0.0</td>\n",
              "    </tr>\n",
              "    <tr>\n",
              "      <th>4</th>\n",
              "      <td>0.0</td>\n",
              "      <td>1.0</td>\n",
              "      <td>0.0</td>\n",
              "      <td>0.0</td>\n",
              "      <td>1.0</td>\n",
              "      <td>0.0</td>\n",
              "      <td>0.0</td>\n",
              "      <td>0.0</td>\n",
              "      <td>0.0</td>\n",
              "      <td>1.0</td>\n",
              "      <td>...</td>\n",
              "      <td>0.0</td>\n",
              "      <td>0.0</td>\n",
              "      <td>0.0</td>\n",
              "      <td>0.0</td>\n",
              "      <td>0.0</td>\n",
              "      <td>0.0</td>\n",
              "      <td>0.676056</td>\n",
              "      <td>0.221945</td>\n",
              "      <td>0.236782</td>\n",
              "      <td>0.0</td>\n",
              "    </tr>\n",
              "  </tbody>\n",
              "</table>\n",
              "<p>5 rows × 30 columns</p>\n",
              "</div>\n",
              "      <button class=\"colab-df-convert\" onclick=\"convertToInteractive('df-585f93fa-a5d6-4c29-b9ad-41351250d3ff')\"\n",
              "              title=\"Convert this dataframe to an interactive table.\"\n",
              "              style=\"display:none;\">\n",
              "        \n",
              "  <svg xmlns=\"http://www.w3.org/2000/svg\" height=\"24px\"viewBox=\"0 0 24 24\"\n",
              "       width=\"24px\">\n",
              "    <path d=\"M0 0h24v24H0V0z\" fill=\"none\"/>\n",
              "    <path d=\"M18.56 5.44l.94 2.06.94-2.06 2.06-.94-2.06-.94-.94-2.06-.94 2.06-2.06.94zm-11 1L8.5 8.5l.94-2.06 2.06-.94-2.06-.94L8.5 2.5l-.94 2.06-2.06.94zm10 10l.94 2.06.94-2.06 2.06-.94-2.06-.94-.94-2.06-.94 2.06-2.06.94z\"/><path d=\"M17.41 7.96l-1.37-1.37c-.4-.4-.92-.59-1.43-.59-.52 0-1.04.2-1.43.59L10.3 9.45l-7.72 7.72c-.78.78-.78 2.05 0 2.83L4 21.41c.39.39.9.59 1.41.59.51 0 1.02-.2 1.41-.59l7.78-7.78 2.81-2.81c.8-.78.8-2.07 0-2.86zM5.41 20L4 18.59l7.72-7.72 1.47 1.35L5.41 20z\"/>\n",
              "  </svg>\n",
              "      </button>\n",
              "      \n",
              "  <style>\n",
              "    .colab-df-container {\n",
              "      display:flex;\n",
              "      flex-wrap:wrap;\n",
              "      gap: 12px;\n",
              "    }\n",
              "\n",
              "    .colab-df-convert {\n",
              "      background-color: #E8F0FE;\n",
              "      border: none;\n",
              "      border-radius: 50%;\n",
              "      cursor: pointer;\n",
              "      display: none;\n",
              "      fill: #1967D2;\n",
              "      height: 32px;\n",
              "      padding: 0 0 0 0;\n",
              "      width: 32px;\n",
              "    }\n",
              "\n",
              "    .colab-df-convert:hover {\n",
              "      background-color: #E2EBFA;\n",
              "      box-shadow: 0px 1px 2px rgba(60, 64, 67, 0.3), 0px 1px 3px 1px rgba(60, 64, 67, 0.15);\n",
              "      fill: #174EA6;\n",
              "    }\n",
              "\n",
              "    [theme=dark] .colab-df-convert {\n",
              "      background-color: #3B4455;\n",
              "      fill: #D2E3FC;\n",
              "    }\n",
              "\n",
              "    [theme=dark] .colab-df-convert:hover {\n",
              "      background-color: #434B5C;\n",
              "      box-shadow: 0px 1px 3px 1px rgba(0, 0, 0, 0.15);\n",
              "      filter: drop-shadow(0px 1px 2px rgba(0, 0, 0, 0.3));\n",
              "      fill: #FFFFFF;\n",
              "    }\n",
              "  </style>\n",
              "\n",
              "      <script>\n",
              "        const buttonEl =\n",
              "          document.querySelector('#df-585f93fa-a5d6-4c29-b9ad-41351250d3ff button.colab-df-convert');\n",
              "        buttonEl.style.display =\n",
              "          google.colab.kernel.accessAllowed ? 'block' : 'none';\n",
              "\n",
              "        async function convertToInteractive(key) {\n",
              "          const element = document.querySelector('#df-585f93fa-a5d6-4c29-b9ad-41351250d3ff');\n",
              "          const dataTable =\n",
              "            await google.colab.kernel.invokeFunction('convertToInteractive',\n",
              "                                                     [key], {});\n",
              "          if (!dataTable) return;\n",
              "\n",
              "          const docLinkHtml = 'Like what you see? Visit the ' +\n",
              "            '<a target=\"_blank\" href=https://colab.research.google.com/notebooks/data_table.ipynb>data table notebook</a>'\n",
              "            + ' to learn more about interactive tables.';\n",
              "          element.innerHTML = '';\n",
              "          dataTable['output_type'] = 'display_data';\n",
              "          await google.colab.output.renderOutput(dataTable, element);\n",
              "          const docLink = document.createElement('div');\n",
              "          docLink.innerHTML = docLinkHtml;\n",
              "          element.appendChild(docLink);\n",
              "        }\n",
              "      </script>\n",
              "    </div>\n",
              "  </div>\n",
              "  "
            ],
            "text/plain": [
              "   gender_Male  Partner_Yes  Dependents_Yes  PhoneService_Yes  \\\n",
              "0          1.0          1.0             1.0               1.0   \n",
              "1          1.0          0.0             0.0               0.0   \n",
              "2          0.0          1.0             0.0               1.0   \n",
              "3          1.0          0.0             0.0               1.0   \n",
              "4          0.0          1.0             0.0               0.0   \n",
              "\n",
              "   MultipleLines_No phone service  MultipleLines_Yes  \\\n",
              "0                             0.0                1.0   \n",
              "1                             1.0                0.0   \n",
              "2                             0.0                1.0   \n",
              "3                             0.0                0.0   \n",
              "4                             1.0                0.0   \n",
              "\n",
              "   InternetService_Fiber optic  InternetService_No  \\\n",
              "0                          1.0                 0.0   \n",
              "1                          0.0                 0.0   \n",
              "2                          1.0                 0.0   \n",
              "3                          1.0                 0.0   \n",
              "4                          0.0                 0.0   \n",
              "\n",
              "   OnlineSecurity_No internet service  OnlineSecurity_Yes  ...  \\\n",
              "0                                 0.0                 1.0  ...   \n",
              "1                                 0.0                 0.0  ...   \n",
              "2                                 0.0                 0.0  ...   \n",
              "3                                 0.0                 0.0  ...   \n",
              "4                                 0.0                 1.0  ...   \n",
              "\n",
              "   Contract_One year  Contract_Two year  PaperlessBilling_Yes  \\\n",
              "0                0.0                1.0                   0.0   \n",
              "1                0.0                0.0                   0.0   \n",
              "2                0.0                1.0                   0.0   \n",
              "3                0.0                0.0                   0.0   \n",
              "4                0.0                0.0                   0.0   \n",
              "\n",
              "   PaymentMethod_Credit card (automatic)  PaymentMethod_Electronic check  \\\n",
              "0                                    1.0                             0.0   \n",
              "1                                    0.0                             1.0   \n",
              "2                                    1.0                             0.0   \n",
              "3                                    0.0                             1.0   \n",
              "4                                    0.0                             0.0   \n",
              "\n",
              "   PaymentMethod_Mailed check    tenure  MonthlyCharges  TotalCharges  \\\n",
              "0                         0.0  0.901408        0.759601      0.699279   \n",
              "1                         0.0  0.352113        0.173067      0.115820   \n",
              "2                         0.0  0.943662        0.716209      0.724538   \n",
              "3                         0.0  0.028169        0.657357      0.024954   \n",
              "4                         0.0  0.676056        0.221945      0.236782   \n",
              "\n",
              "   SeniorCitizen  \n",
              "0            0.0  \n",
              "1            0.0  \n",
              "2            0.0  \n",
              "3            0.0  \n",
              "4            0.0  \n",
              "\n",
              "[5 rows x 30 columns]"
            ]
          },
          "execution_count": 22,
          "metadata": {},
          "output_type": "execute_result"
        }
      ],
      "source": [
        "# Hasil Preview Preprocessing data (X_train_val)\n",
        "X_train_val_pre_df.head()"
      ]
    },
    {
      "cell_type": "markdown",
      "metadata": {
        "id": "HWK9ZwNN-6eH"
      },
      "source": [
        "##### Feature Selection\n"
      ]
    },
    {
      "cell_type": "code",
      "execution_count": null,
      "metadata": {
        "id": "sRvPvTcR-9u9"
      },
      "outputs": [],
      "source": [
        "# Preview X_train_val_pre setelah dilakukan proses feature selection\n",
        "\n",
        "select = SelectKBest(chi2, k=10)\n",
        "\n",
        "X_train_val_select = select.fit_transform(X_train_val_pre_df, y_train_val)"
      ]
    },
    {
      "cell_type": "code",
      "execution_count": null,
      "metadata": {
        "colab": {
          "base_uri": "https://localhost:8080/"
        },
        "id": "LYh11sYeALGn",
        "outputId": "a236bc1e-48fe-4df5-eb5a-92f38f418a08"
      },
      "outputs": [
        {
          "data": {
            "text/plain": [
              "(5625, 19)"
            ]
          },
          "execution_count": 24,
          "metadata": {},
          "output_type": "execute_result"
        }
      ],
      "source": [
        "# Before selection\n",
        "X_train_val.shape"
      ]
    },
    {
      "cell_type": "code",
      "execution_count": null,
      "metadata": {
        "colab": {
          "base_uri": "https://localhost:8080/"
        },
        "id": "OHmkt_NuAQN6",
        "outputId": "65f90bda-ce67-4017-d69b-780200ef9ef8"
      },
      "outputs": [
        {
          "data": {
            "text/plain": [
              "(5625, 12)"
            ]
          },
          "execution_count": 25,
          "metadata": {},
          "output_type": "execute_result"
        }
      ],
      "source": [
        "# After Selection\n",
        "X_train_val_select.shape"
      ]
    },
    {
      "cell_type": "code",
      "execution_count": null,
      "metadata": {
        "id": "7jcLDVn-AsLa"
      },
      "outputs": [],
      "source": [
        "feature_selection_df = pd.DataFrame({'Column': select.feature_names_in_, 'Score': select.scores_, 'P-Values':select.pvalues_})"
      ]
    },
    {
      "cell_type": "code",
      "execution_count": null,
      "metadata": {
        "colab": {
          "base_uri": "https://localhost:8080/",
          "height": 990
        },
        "id": "4-2ab9i5AUmB",
        "outputId": "00d1687d-93b0-45cb-f545-9155a5b0b44c"
      },
      "outputs": [
        {
          "data": {
            "text/html": [
              "\n",
              "  <div id=\"df-4738c211-7ba3-48aa-9285-f644eb7b3de2\">\n",
              "    <div class=\"colab-df-container\">\n",
              "      <div>\n",
              "<style scoped>\n",
              "    .dataframe tbody tr th:only-of-type {\n",
              "        vertical-align: middle;\n",
              "    }\n",
              "\n",
              "    .dataframe tbody tr th {\n",
              "        vertical-align: top;\n",
              "    }\n",
              "\n",
              "    .dataframe thead th {\n",
              "        text-align: right;\n",
              "    }\n",
              "</style>\n",
              "<table border=\"1\" class=\"dataframe\">\n",
              "  <thead>\n",
              "    <tr style=\"text-align: right;\">\n",
              "      <th></th>\n",
              "      <th>Column</th>\n",
              "      <th>Score</th>\n",
              "      <th>P-Values</th>\n",
              "    </tr>\n",
              "  </thead>\n",
              "  <tbody>\n",
              "    <tr>\n",
              "      <th>21</th>\n",
              "      <td>Contract_Two year</td>\n",
              "      <td>388.655168</td>\n",
              "      <td>1.624240e-86</td>\n",
              "    </tr>\n",
              "    <tr>\n",
              "      <th>24</th>\n",
              "      <td>PaymentMethod_Electronic check</td>\n",
              "      <td>346.643724</td>\n",
              "      <td>2.280480e-77</td>\n",
              "    </tr>\n",
              "    <tr>\n",
              "      <th>6</th>\n",
              "      <td>InternetService_Fiber optic</td>\n",
              "      <td>295.005561</td>\n",
              "      <td>4.035723e-66</td>\n",
              "    </tr>\n",
              "    <tr>\n",
              "      <th>16</th>\n",
              "      <td>StreamingTV_No internet service</td>\n",
              "      <td>228.447173</td>\n",
              "      <td>1.300149e-51</td>\n",
              "    </tr>\n",
              "    <tr>\n",
              "      <th>7</th>\n",
              "      <td>InternetService_No</td>\n",
              "      <td>228.447173</td>\n",
              "      <td>1.300149e-51</td>\n",
              "    </tr>\n",
              "    <tr>\n",
              "      <th>8</th>\n",
              "      <td>OnlineSecurity_No internet service</td>\n",
              "      <td>228.447173</td>\n",
              "      <td>1.300149e-51</td>\n",
              "    </tr>\n",
              "    <tr>\n",
              "      <th>10</th>\n",
              "      <td>OnlineBackup_No internet service</td>\n",
              "      <td>228.447173</td>\n",
              "      <td>1.300149e-51</td>\n",
              "    </tr>\n",
              "    <tr>\n",
              "      <th>12</th>\n",
              "      <td>DeviceProtection_No internet service</td>\n",
              "      <td>228.447173</td>\n",
              "      <td>1.300149e-51</td>\n",
              "    </tr>\n",
              "    <tr>\n",
              "      <th>18</th>\n",
              "      <td>StreamingMovies_No internet service</td>\n",
              "      <td>228.447173</td>\n",
              "      <td>1.300149e-51</td>\n",
              "    </tr>\n",
              "    <tr>\n",
              "      <th>14</th>\n",
              "      <td>TechSupport_No internet service</td>\n",
              "      <td>228.447173</td>\n",
              "      <td>1.300149e-51</td>\n",
              "    </tr>\n",
              "    <tr>\n",
              "      <th>26</th>\n",
              "      <td>tenure</td>\n",
              "      <td>186.992106</td>\n",
              "      <td>1.441837e-42</td>\n",
              "    </tr>\n",
              "    <tr>\n",
              "      <th>20</th>\n",
              "      <td>Contract_One year</td>\n",
              "      <td>153.476434</td>\n",
              "      <td>3.014046e-35</td>\n",
              "    </tr>\n",
              "    <tr>\n",
              "      <th>9</th>\n",
              "      <td>OnlineSecurity_Yes</td>\n",
              "      <td>123.177070</td>\n",
              "      <td>1.275432e-28</td>\n",
              "    </tr>\n",
              "    <tr>\n",
              "      <th>2</th>\n",
              "      <td>Dependents_Yes</td>\n",
              "      <td>115.449042</td>\n",
              "      <td>6.275096e-27</td>\n",
              "    </tr>\n",
              "    <tr>\n",
              "      <th>15</th>\n",
              "      <td>TechSupport_Yes</td>\n",
              "      <td>107.688602</td>\n",
              "      <td>3.145062e-25</td>\n",
              "    </tr>\n",
              "    <tr>\n",
              "      <th>29</th>\n",
              "      <td>SeniorCitizen</td>\n",
              "      <td>107.464567</td>\n",
              "      <td>3.521453e-25</td>\n",
              "    </tr>\n",
              "    <tr>\n",
              "      <th>22</th>\n",
              "      <td>PaperlessBilling_Yes</td>\n",
              "      <td>80.882622</td>\n",
              "      <td>2.395308e-19</td>\n",
              "    </tr>\n",
              "    <tr>\n",
              "      <th>23</th>\n",
              "      <td>PaymentMethod_Credit card (automatic)</td>\n",
              "      <td>77.919160</td>\n",
              "      <td>1.073451e-18</td>\n",
              "    </tr>\n",
              "    <tr>\n",
              "      <th>1</th>\n",
              "      <td>Partner_Yes</td>\n",
              "      <td>68.835347</td>\n",
              "      <td>1.070369e-16</td>\n",
              "    </tr>\n",
              "    <tr>\n",
              "      <th>28</th>\n",
              "      <td>TotalCharges</td>\n",
              "      <td>57.699990</td>\n",
              "      <td>3.053044e-14</td>\n",
              "    </tr>\n",
              "    <tr>\n",
              "      <th>27</th>\n",
              "      <td>MonthlyCharges</td>\n",
              "      <td>40.843774</td>\n",
              "      <td>1.648978e-10</td>\n",
              "    </tr>\n",
              "    <tr>\n",
              "      <th>25</th>\n",
              "      <td>PaymentMethod_Mailed check</td>\n",
              "      <td>34.958965</td>\n",
              "      <td>3.367275e-09</td>\n",
              "    </tr>\n",
              "    <tr>\n",
              "      <th>11</th>\n",
              "      <td>OnlineBackup_Yes</td>\n",
              "      <td>26.969457</td>\n",
              "      <td>2.066960e-07</td>\n",
              "    </tr>\n",
              "    <tr>\n",
              "      <th>17</th>\n",
              "      <td>StreamingTV_Yes</td>\n",
              "      <td>18.334930</td>\n",
              "      <td>1.852787e-05</td>\n",
              "    </tr>\n",
              "    <tr>\n",
              "      <th>13</th>\n",
              "      <td>DeviceProtection_Yes</td>\n",
              "      <td>15.094821</td>\n",
              "      <td>1.022434e-04</td>\n",
              "    </tr>\n",
              "    <tr>\n",
              "      <th>19</th>\n",
              "      <td>StreamingMovies_Yes</td>\n",
              "      <td>14.799239</td>\n",
              "      <td>1.195837e-04</td>\n",
              "    </tr>\n",
              "    <tr>\n",
              "      <th>5</th>\n",
              "      <td>MultipleLines_Yes</td>\n",
              "      <td>6.293337</td>\n",
              "      <td>1.211927e-02</td>\n",
              "    </tr>\n",
              "    <tr>\n",
              "      <th>4</th>\n",
              "      <td>MultipleLines_No phone service</td>\n",
              "      <td>0.441060</td>\n",
              "      <td>5.066113e-01</td>\n",
              "    </tr>\n",
              "    <tr>\n",
              "      <th>0</th>\n",
              "      <td>gender_Male</td>\n",
              "      <td>0.096489</td>\n",
              "      <td>7.560845e-01</td>\n",
              "    </tr>\n",
              "    <tr>\n",
              "      <th>3</th>\n",
              "      <td>PhoneService_Yes</td>\n",
              "      <td>0.047318</td>\n",
              "      <td>8.277969e-01</td>\n",
              "    </tr>\n",
              "  </tbody>\n",
              "</table>\n",
              "</div>\n",
              "      <button class=\"colab-df-convert\" onclick=\"convertToInteractive('df-4738c211-7ba3-48aa-9285-f644eb7b3de2')\"\n",
              "              title=\"Convert this dataframe to an interactive table.\"\n",
              "              style=\"display:none;\">\n",
              "        \n",
              "  <svg xmlns=\"http://www.w3.org/2000/svg\" height=\"24px\"viewBox=\"0 0 24 24\"\n",
              "       width=\"24px\">\n",
              "    <path d=\"M0 0h24v24H0V0z\" fill=\"none\"/>\n",
              "    <path d=\"M18.56 5.44l.94 2.06.94-2.06 2.06-.94-2.06-.94-.94-2.06-.94 2.06-2.06.94zm-11 1L8.5 8.5l.94-2.06 2.06-.94-2.06-.94L8.5 2.5l-.94 2.06-2.06.94zm10 10l.94 2.06.94-2.06 2.06-.94-2.06-.94-.94-2.06-.94 2.06-2.06.94z\"/><path d=\"M17.41 7.96l-1.37-1.37c-.4-.4-.92-.59-1.43-.59-.52 0-1.04.2-1.43.59L10.3 9.45l-7.72 7.72c-.78.78-.78 2.05 0 2.83L4 21.41c.39.39.9.59 1.41.59.51 0 1.02-.2 1.41-.59l7.78-7.78 2.81-2.81c.8-.78.8-2.07 0-2.86zM5.41 20L4 18.59l7.72-7.72 1.47 1.35L5.41 20z\"/>\n",
              "  </svg>\n",
              "      </button>\n",
              "      \n",
              "  <style>\n",
              "    .colab-df-container {\n",
              "      display:flex;\n",
              "      flex-wrap:wrap;\n",
              "      gap: 12px;\n",
              "    }\n",
              "\n",
              "    .colab-df-convert {\n",
              "      background-color: #E8F0FE;\n",
              "      border: none;\n",
              "      border-radius: 50%;\n",
              "      cursor: pointer;\n",
              "      display: none;\n",
              "      fill: #1967D2;\n",
              "      height: 32px;\n",
              "      padding: 0 0 0 0;\n",
              "      width: 32px;\n",
              "    }\n",
              "\n",
              "    .colab-df-convert:hover {\n",
              "      background-color: #E2EBFA;\n",
              "      box-shadow: 0px 1px 2px rgba(60, 64, 67, 0.3), 0px 1px 3px 1px rgba(60, 64, 67, 0.15);\n",
              "      fill: #174EA6;\n",
              "    }\n",
              "\n",
              "    [theme=dark] .colab-df-convert {\n",
              "      background-color: #3B4455;\n",
              "      fill: #D2E3FC;\n",
              "    }\n",
              "\n",
              "    [theme=dark] .colab-df-convert:hover {\n",
              "      background-color: #434B5C;\n",
              "      box-shadow: 0px 1px 3px 1px rgba(0, 0, 0, 0.15);\n",
              "      filter: drop-shadow(0px 1px 2px rgba(0, 0, 0, 0.3));\n",
              "      fill: #FFFFFF;\n",
              "    }\n",
              "  </style>\n",
              "\n",
              "      <script>\n",
              "        const buttonEl =\n",
              "          document.querySelector('#df-4738c211-7ba3-48aa-9285-f644eb7b3de2 button.colab-df-convert');\n",
              "        buttonEl.style.display =\n",
              "          google.colab.kernel.accessAllowed ? 'block' : 'none';\n",
              "\n",
              "        async function convertToInteractive(key) {\n",
              "          const element = document.querySelector('#df-4738c211-7ba3-48aa-9285-f644eb7b3de2');\n",
              "          const dataTable =\n",
              "            await google.colab.kernel.invokeFunction('convertToInteractive',\n",
              "                                                     [key], {});\n",
              "          if (!dataTable) return;\n",
              "\n",
              "          const docLinkHtml = 'Like what you see? Visit the ' +\n",
              "            '<a target=\"_blank\" href=https://colab.research.google.com/notebooks/data_table.ipynb>data table notebook</a>'\n",
              "            + ' to learn more about interactive tables.';\n",
              "          element.innerHTML = '';\n",
              "          dataTable['output_type'] = 'display_data';\n",
              "          await google.colab.output.renderOutput(dataTable, element);\n",
              "          const docLink = document.createElement('div');\n",
              "          docLink.innerHTML = docLinkHtml;\n",
              "          element.appendChild(docLink);\n",
              "        }\n",
              "      </script>\n",
              "    </div>\n",
              "  </div>\n",
              "  "
            ],
            "text/plain": [
              "                                   Column       Score      P-Values\n",
              "21                      Contract_Two year  388.655168  1.624240e-86\n",
              "24         PaymentMethod_Electronic check  346.643724  2.280480e-77\n",
              "6             InternetService_Fiber optic  295.005561  4.035723e-66\n",
              "16        StreamingTV_No internet service  228.447173  1.300149e-51\n",
              "7                      InternetService_No  228.447173  1.300149e-51\n",
              "8      OnlineSecurity_No internet service  228.447173  1.300149e-51\n",
              "10       OnlineBackup_No internet service  228.447173  1.300149e-51\n",
              "12   DeviceProtection_No internet service  228.447173  1.300149e-51\n",
              "18    StreamingMovies_No internet service  228.447173  1.300149e-51\n",
              "14        TechSupport_No internet service  228.447173  1.300149e-51\n",
              "26                                 tenure  186.992106  1.441837e-42\n",
              "20                      Contract_One year  153.476434  3.014046e-35\n",
              "9                      OnlineSecurity_Yes  123.177070  1.275432e-28\n",
              "2                          Dependents_Yes  115.449042  6.275096e-27\n",
              "15                        TechSupport_Yes  107.688602  3.145062e-25\n",
              "29                          SeniorCitizen  107.464567  3.521453e-25\n",
              "22                   PaperlessBilling_Yes   80.882622  2.395308e-19\n",
              "23  PaymentMethod_Credit card (automatic)   77.919160  1.073451e-18\n",
              "1                             Partner_Yes   68.835347  1.070369e-16\n",
              "28                           TotalCharges   57.699990  3.053044e-14\n",
              "27                         MonthlyCharges   40.843774  1.648978e-10\n",
              "25             PaymentMethod_Mailed check   34.958965  3.367275e-09\n",
              "11                       OnlineBackup_Yes   26.969457  2.066960e-07\n",
              "17                        StreamingTV_Yes   18.334930  1.852787e-05\n",
              "13                   DeviceProtection_Yes   15.094821  1.022434e-04\n",
              "19                    StreamingMovies_Yes   14.799239  1.195837e-04\n",
              "5                       MultipleLines_Yes    6.293337  1.211927e-02\n",
              "4          MultipleLines_No phone service    0.441060  5.066113e-01\n",
              "0                             gender_Male    0.096489  7.560845e-01\n",
              "3                        PhoneService_Yes    0.047318  8.277969e-01"
            ]
          },
          "execution_count": 27,
          "metadata": {},
          "output_type": "execute_result"
        }
      ],
      "source": [
        "feature_selection_df.sort_values(by='Score', ascending=False)"
      ]
    },
    {
      "cell_type": "markdown",
      "metadata": {
        "id": "ytd7nTnh9q2P"
      },
      "source": [
        "### 3. Build Model"
      ]
    },
    {
      "cell_type": "markdown",
      "metadata": {
        "id": "3UGL9TRz95Uy"
      },
      "source": [
        "##### Model Selection\n",
        "- Adaboosting (tree)\n",
        "- Random Forest\n",
        "- XGBClassifier\n",
        "- LogisticRegression\n",
        "- KNN "
      ]
    },
    {
      "cell_type": "code",
      "execution_count": null,
      "metadata": {
        "id": "2hIJ2v0i927o"
      },
      "outputs": [],
      "source": [
        "# Base Estimator\n",
        "tree = DecisionTreeClassifier(max_depth=5)\n",
        "\n",
        "# Estimator\n",
        "adaboost = AdaBoostClassifier(tree)\n",
        "rf = RandomForestClassifier()\n",
        "logreg = LogisticRegression()\n",
        "xgb = XGBClassifier()\n",
        "knn = KNeighborsClassifier()"
      ]
    },
    {
      "cell_type": "code",
      "execution_count": null,
      "metadata": {
        "id": "7pmHaoTD9uqJ"
      },
      "outputs": [],
      "source": [
        "def train(model, X, y, score='f1', fold=5, ct=ct, select=SelectKBest(chi2)):\n",
        "  \n",
        "  pipe = Pipeline([('Preprocessing', ct),\n",
        "                   ('FeatureSelection', select),\n",
        "                   ('Clf', model)])\n",
        "  \n",
        "  cv = cross_val_score(pipe, X, y, cv=KFold(n_splits=fold, shuffle=True, random_state=42), scoring=score)\n",
        "  cv_mean = cv.mean()\n",
        "\n",
        "  return [model, cv, cv_mean]"
      ]
    },
    {
      "cell_type": "code",
      "execution_count": null,
      "metadata": {
        "colab": {
          "base_uri": "https://localhost:8080/"
        },
        "id": "8GT82FPGIOea",
        "outputId": "9d980473-3b9e-4e16-ad9f-1846372d3928"
      },
      "outputs": [
        {
          "data": {
            "text/plain": [
              "[RandomForestClassifier(),\n",
              " array([0.48618785, 0.4857685 , 0.51012146, 0.50367647, 0.52054795]),\n",
              " 0.5012604439072454]"
            ]
          },
          "execution_count": 30,
          "metadata": {},
          "output_type": "execute_result"
        }
      ],
      "source": [
        "train(rf, X_train_val, y_train_val)"
      ]
    },
    {
      "cell_type": "code",
      "execution_count": null,
      "metadata": {
        "colab": {
          "base_uri": "https://localhost:8080/"
        },
        "id": "hbMJmjL3IYdb",
        "outputId": "5ae4db4c-a617-45a3-cb82-9cff98ed133c"
      },
      "outputs": [
        {
          "data": {
            "text/plain": [
              "0.5012604439072454"
            ]
          },
          "execution_count": 31,
          "metadata": {},
          "output_type": "execute_result"
        }
      ],
      "source": [
        "train(rf, X_train_val, y_train_val)[2]"
      ]
    },
    {
      "cell_type": "code",
      "execution_count": null,
      "metadata": {
        "colab": {
          "base_uri": "https://localhost:8080/",
          "height": 261
        },
        "id": "4tJzbf2jFIzB",
        "outputId": "5258d3cf-4faf-4938-a643-0ba5047c5dda"
      },
      "outputs": [
        {
          "name": "stderr",
          "output_type": "stream",
          "text": [
            "/usr/local/lib/python3.7/dist-packages/ipykernel_launcher.py:6: VisibleDeprecationWarning: Creating an ndarray from ragged nested sequences (which is a list-or-tuple of lists-or-tuples-or ndarrays with different lengths or shapes) is deprecated. If you meant to do this, you must specify 'dtype=object' when creating the ndarray.\n",
            "  \n"
          ]
        },
        {
          "data": {
            "text/html": [
              "\n",
              "  <div id=\"df-4eba349a-bc03-4292-93a0-4daa2cf76da5\">\n",
              "    <div class=\"colab-df-container\">\n",
              "      <div>\n",
              "<style scoped>\n",
              "    .dataframe tbody tr th:only-of-type {\n",
              "        vertical-align: middle;\n",
              "    }\n",
              "\n",
              "    .dataframe tbody tr th {\n",
              "        vertical-align: top;\n",
              "    }\n",
              "\n",
              "    .dataframe thead th {\n",
              "        text-align: right;\n",
              "    }\n",
              "</style>\n",
              "<table border=\"1\" class=\"dataframe\">\n",
              "  <thead>\n",
              "    <tr style=\"text-align: right;\">\n",
              "      <th></th>\n",
              "      <th>Model</th>\n",
              "      <th>Cross-Validation Score</th>\n",
              "      <th>Cross-Validation Mean Score</th>\n",
              "    </tr>\n",
              "  </thead>\n",
              "  <tbody>\n",
              "    <tr>\n",
              "      <th>0</th>\n",
              "      <td>adaboost</td>\n",
              "      <td>[0.4861878453038674, 0.4857685009487666, 0.510...</td>\n",
              "      <td>0.50126</td>\n",
              "    </tr>\n",
              "    <tr>\n",
              "      <th>1</th>\n",
              "      <td>Random Forest</td>\n",
              "      <td>[0.4861878453038674, 0.4857685009487666, 0.510...</td>\n",
              "      <td>0.50126</td>\n",
              "    </tr>\n",
              "    <tr>\n",
              "      <th>2</th>\n",
              "      <td>Logistic Regression</td>\n",
              "      <td>[0.4861878453038674, 0.4857685009487666, 0.510...</td>\n",
              "      <td>0.50126</td>\n",
              "    </tr>\n",
              "    <tr>\n",
              "      <th>3</th>\n",
              "      <td>XGBoosting</td>\n",
              "      <td>[0.4861878453038674, 0.4857685009487666, 0.510...</td>\n",
              "      <td>0.50126</td>\n",
              "    </tr>\n",
              "    <tr>\n",
              "      <th>4</th>\n",
              "      <td>KNearestNeighbor</td>\n",
              "      <td>[0.17258883248730966, 0.5157232704402516, 0.16...</td>\n",
              "      <td>0.240503</td>\n",
              "    </tr>\n",
              "  </tbody>\n",
              "</table>\n",
              "</div>\n",
              "      <button class=\"colab-df-convert\" onclick=\"convertToInteractive('df-4eba349a-bc03-4292-93a0-4daa2cf76da5')\"\n",
              "              title=\"Convert this dataframe to an interactive table.\"\n",
              "              style=\"display:none;\">\n",
              "        \n",
              "  <svg xmlns=\"http://www.w3.org/2000/svg\" height=\"24px\"viewBox=\"0 0 24 24\"\n",
              "       width=\"24px\">\n",
              "    <path d=\"M0 0h24v24H0V0z\" fill=\"none\"/>\n",
              "    <path d=\"M18.56 5.44l.94 2.06.94-2.06 2.06-.94-2.06-.94-.94-2.06-.94 2.06-2.06.94zm-11 1L8.5 8.5l.94-2.06 2.06-.94-2.06-.94L8.5 2.5l-.94 2.06-2.06.94zm10 10l.94 2.06.94-2.06 2.06-.94-2.06-.94-.94-2.06-.94 2.06-2.06.94z\"/><path d=\"M17.41 7.96l-1.37-1.37c-.4-.4-.92-.59-1.43-.59-.52 0-1.04.2-1.43.59L10.3 9.45l-7.72 7.72c-.78.78-.78 2.05 0 2.83L4 21.41c.39.39.9.59 1.41.59.51 0 1.02-.2 1.41-.59l7.78-7.78 2.81-2.81c.8-.78.8-2.07 0-2.86zM5.41 20L4 18.59l7.72-7.72 1.47 1.35L5.41 20z\"/>\n",
              "  </svg>\n",
              "      </button>\n",
              "      \n",
              "  <style>\n",
              "    .colab-df-container {\n",
              "      display:flex;\n",
              "      flex-wrap:wrap;\n",
              "      gap: 12px;\n",
              "    }\n",
              "\n",
              "    .colab-df-convert {\n",
              "      background-color: #E8F0FE;\n",
              "      border: none;\n",
              "      border-radius: 50%;\n",
              "      cursor: pointer;\n",
              "      display: none;\n",
              "      fill: #1967D2;\n",
              "      height: 32px;\n",
              "      padding: 0 0 0 0;\n",
              "      width: 32px;\n",
              "    }\n",
              "\n",
              "    .colab-df-convert:hover {\n",
              "      background-color: #E2EBFA;\n",
              "      box-shadow: 0px 1px 2px rgba(60, 64, 67, 0.3), 0px 1px 3px 1px rgba(60, 64, 67, 0.15);\n",
              "      fill: #174EA6;\n",
              "    }\n",
              "\n",
              "    [theme=dark] .colab-df-convert {\n",
              "      background-color: #3B4455;\n",
              "      fill: #D2E3FC;\n",
              "    }\n",
              "\n",
              "    [theme=dark] .colab-df-convert:hover {\n",
              "      background-color: #434B5C;\n",
              "      box-shadow: 0px 1px 3px 1px rgba(0, 0, 0, 0.15);\n",
              "      filter: drop-shadow(0px 1px 2px rgba(0, 0, 0, 0.3));\n",
              "      fill: #FFFFFF;\n",
              "    }\n",
              "  </style>\n",
              "\n",
              "      <script>\n",
              "        const buttonEl =\n",
              "          document.querySelector('#df-4eba349a-bc03-4292-93a0-4daa2cf76da5 button.colab-df-convert');\n",
              "        buttonEl.style.display =\n",
              "          google.colab.kernel.accessAllowed ? 'block' : 'none';\n",
              "\n",
              "        async function convertToInteractive(key) {\n",
              "          const element = document.querySelector('#df-4eba349a-bc03-4292-93a0-4daa2cf76da5');\n",
              "          const dataTable =\n",
              "            await google.colab.kernel.invokeFunction('convertToInteractive',\n",
              "                                                     [key], {});\n",
              "          if (!dataTable) return;\n",
              "\n",
              "          const docLinkHtml = 'Like what you see? Visit the ' +\n",
              "            '<a target=\"_blank\" href=https://colab.research.google.com/notebooks/data_table.ipynb>data table notebook</a>'\n",
              "            + ' to learn more about interactive tables.';\n",
              "          element.innerHTML = '';\n",
              "          dataTable['output_type'] = 'display_data';\n",
              "          await google.colab.output.renderOutput(dataTable, element);\n",
              "          const docLink = document.createElement('div');\n",
              "          docLink.innerHTML = docLinkHtml;\n",
              "          element.appendChild(docLink);\n",
              "        }\n",
              "      </script>\n",
              "    </div>\n",
              "  </div>\n",
              "  "
            ],
            "text/plain": [
              "                 Model                             Cross-Validation Score  \\\n",
              "0             adaboost  [0.4861878453038674, 0.4857685009487666, 0.510...   \n",
              "1        Random Forest  [0.4861878453038674, 0.4857685009487666, 0.510...   \n",
              "2  Logistic Regression  [0.4861878453038674, 0.4857685009487666, 0.510...   \n",
              "3           XGBoosting  [0.4861878453038674, 0.4857685009487666, 0.510...   \n",
              "4     KNearestNeighbor  [0.17258883248730966, 0.5157232704402516, 0.16...   \n",
              "\n",
              "  Cross-Validation Mean Score  \n",
              "0                     0.50126  \n",
              "1                     0.50126  \n",
              "2                     0.50126  \n",
              "3                     0.50126  \n",
              "4                    0.240503  "
            ]
          },
          "execution_count": 32,
          "metadata": {},
          "output_type": "execute_result"
        }
      ],
      "source": [
        "# Scoring -> f1\n",
        "\n",
        "models = [('adaboost', adaboost), ('Random Forest', rf), ('Logistic Regression', logreg), ('XGBoosting', xgb), ('KNearestNeighbor', knn)]\n",
        "\n",
        "result = [train(model[1], X_train_val, y_train_val) for model in models]\n",
        "result_np = np.array(result)\n",
        "\n",
        "result_df = pd.DataFrame({'Model':[model[0] for model in models], 'Cross-Validation Score':result_np[:, 1], 'Cross-Validation Mean Score':result_np[:, 2]})\n",
        "result_df"
      ]
    },
    {
      "cell_type": "code",
      "execution_count": null,
      "metadata": {
        "colab": {
          "base_uri": "https://localhost:8080/",
          "height": 261
        },
        "id": "kNoTf8O4BaNW",
        "outputId": "b728a272-0fd6-4422-e428-02d716e4584e"
      },
      "outputs": [
        {
          "name": "stderr",
          "output_type": "stream",
          "text": [
            "/usr/local/lib/python3.7/dist-packages/ipykernel_launcher.py:6: VisibleDeprecationWarning: Creating an ndarray from ragged nested sequences (which is a list-or-tuple of lists-or-tuples-or ndarrays with different lengths or shapes) is deprecated. If you meant to do this, you must specify 'dtype=object' when creating the ndarray.\n",
            "  \n"
          ]
        },
        {
          "data": {
            "text/html": [
              "\n",
              "  <div id=\"df-728d1658-4064-4018-b702-10ed8ad1e1b8\">\n",
              "    <div class=\"colab-df-container\">\n",
              "      <div>\n",
              "<style scoped>\n",
              "    .dataframe tbody tr th:only-of-type {\n",
              "        vertical-align: middle;\n",
              "    }\n",
              "\n",
              "    .dataframe tbody tr th {\n",
              "        vertical-align: top;\n",
              "    }\n",
              "\n",
              "    .dataframe thead th {\n",
              "        text-align: right;\n",
              "    }\n",
              "</style>\n",
              "<table border=\"1\" class=\"dataframe\">\n",
              "  <thead>\n",
              "    <tr style=\"text-align: right;\">\n",
              "      <th></th>\n",
              "      <th>Model</th>\n",
              "      <th>Cross-Validation Score</th>\n",
              "      <th>Cross-Validation Mean Score</th>\n",
              "    </tr>\n",
              "  </thead>\n",
              "  <tbody>\n",
              "    <tr>\n",
              "      <th>0</th>\n",
              "      <td>adaboost</td>\n",
              "      <td>[0.752, 0.7591111111111111, 0.7848888888888889...</td>\n",
              "      <td>0.761422</td>\n",
              "    </tr>\n",
              "    <tr>\n",
              "      <th>1</th>\n",
              "      <td>Random Forest</td>\n",
              "      <td>[0.752, 0.7591111111111111, 0.7848888888888889...</td>\n",
              "      <td>0.761422</td>\n",
              "    </tr>\n",
              "    <tr>\n",
              "      <th>2</th>\n",
              "      <td>Logistic Regression</td>\n",
              "      <td>[0.752, 0.7591111111111111, 0.7848888888888889...</td>\n",
              "      <td>0.761422</td>\n",
              "    </tr>\n",
              "    <tr>\n",
              "      <th>3</th>\n",
              "      <td>XGBoosting</td>\n",
              "      <td>[0.752, 0.7591111111111111, 0.7848888888888889...</td>\n",
              "      <td>0.761422</td>\n",
              "    </tr>\n",
              "    <tr>\n",
              "      <th>4</th>\n",
              "      <td>KNearestNeighbor</td>\n",
              "      <td>[0.7102222222222222, 0.7262222222222222, 0.730...</td>\n",
              "      <td>0.714311</td>\n",
              "    </tr>\n",
              "  </tbody>\n",
              "</table>\n",
              "</div>\n",
              "      <button class=\"colab-df-convert\" onclick=\"convertToInteractive('df-728d1658-4064-4018-b702-10ed8ad1e1b8')\"\n",
              "              title=\"Convert this dataframe to an interactive table.\"\n",
              "              style=\"display:none;\">\n",
              "        \n",
              "  <svg xmlns=\"http://www.w3.org/2000/svg\" height=\"24px\"viewBox=\"0 0 24 24\"\n",
              "       width=\"24px\">\n",
              "    <path d=\"M0 0h24v24H0V0z\" fill=\"none\"/>\n",
              "    <path d=\"M18.56 5.44l.94 2.06.94-2.06 2.06-.94-2.06-.94-.94-2.06-.94 2.06-2.06.94zm-11 1L8.5 8.5l.94-2.06 2.06-.94-2.06-.94L8.5 2.5l-.94 2.06-2.06.94zm10 10l.94 2.06.94-2.06 2.06-.94-2.06-.94-.94-2.06-.94 2.06-2.06.94z\"/><path d=\"M17.41 7.96l-1.37-1.37c-.4-.4-.92-.59-1.43-.59-.52 0-1.04.2-1.43.59L10.3 9.45l-7.72 7.72c-.78.78-.78 2.05 0 2.83L4 21.41c.39.39.9.59 1.41.59.51 0 1.02-.2 1.41-.59l7.78-7.78 2.81-2.81c.8-.78.8-2.07 0-2.86zM5.41 20L4 18.59l7.72-7.72 1.47 1.35L5.41 20z\"/>\n",
              "  </svg>\n",
              "      </button>\n",
              "      \n",
              "  <style>\n",
              "    .colab-df-container {\n",
              "      display:flex;\n",
              "      flex-wrap:wrap;\n",
              "      gap: 12px;\n",
              "    }\n",
              "\n",
              "    .colab-df-convert {\n",
              "      background-color: #E8F0FE;\n",
              "      border: none;\n",
              "      border-radius: 50%;\n",
              "      cursor: pointer;\n",
              "      display: none;\n",
              "      fill: #1967D2;\n",
              "      height: 32px;\n",
              "      padding: 0 0 0 0;\n",
              "      width: 32px;\n",
              "    }\n",
              "\n",
              "    .colab-df-convert:hover {\n",
              "      background-color: #E2EBFA;\n",
              "      box-shadow: 0px 1px 2px rgba(60, 64, 67, 0.3), 0px 1px 3px 1px rgba(60, 64, 67, 0.15);\n",
              "      fill: #174EA6;\n",
              "    }\n",
              "\n",
              "    [theme=dark] .colab-df-convert {\n",
              "      background-color: #3B4455;\n",
              "      fill: #D2E3FC;\n",
              "    }\n",
              "\n",
              "    [theme=dark] .colab-df-convert:hover {\n",
              "      background-color: #434B5C;\n",
              "      box-shadow: 0px 1px 3px 1px rgba(0, 0, 0, 0.15);\n",
              "      filter: drop-shadow(0px 1px 2px rgba(0, 0, 0, 0.3));\n",
              "      fill: #FFFFFF;\n",
              "    }\n",
              "  </style>\n",
              "\n",
              "      <script>\n",
              "        const buttonEl =\n",
              "          document.querySelector('#df-728d1658-4064-4018-b702-10ed8ad1e1b8 button.colab-df-convert');\n",
              "        buttonEl.style.display =\n",
              "          google.colab.kernel.accessAllowed ? 'block' : 'none';\n",
              "\n",
              "        async function convertToInteractive(key) {\n",
              "          const element = document.querySelector('#df-728d1658-4064-4018-b702-10ed8ad1e1b8');\n",
              "          const dataTable =\n",
              "            await google.colab.kernel.invokeFunction('convertToInteractive',\n",
              "                                                     [key], {});\n",
              "          if (!dataTable) return;\n",
              "\n",
              "          const docLinkHtml = 'Like what you see? Visit the ' +\n",
              "            '<a target=\"_blank\" href=https://colab.research.google.com/notebooks/data_table.ipynb>data table notebook</a>'\n",
              "            + ' to learn more about interactive tables.';\n",
              "          element.innerHTML = '';\n",
              "          dataTable['output_type'] = 'display_data';\n",
              "          await google.colab.output.renderOutput(dataTable, element);\n",
              "          const docLink = document.createElement('div');\n",
              "          docLink.innerHTML = docLinkHtml;\n",
              "          element.appendChild(docLink);\n",
              "        }\n",
              "      </script>\n",
              "    </div>\n",
              "  </div>\n",
              "  "
            ],
            "text/plain": [
              "                 Model                             Cross-Validation Score  \\\n",
              "0             adaboost  [0.752, 0.7591111111111111, 0.7848888888888889...   \n",
              "1        Random Forest  [0.752, 0.7591111111111111, 0.7848888888888889...   \n",
              "2  Logistic Regression  [0.752, 0.7591111111111111, 0.7848888888888889...   \n",
              "3           XGBoosting  [0.752, 0.7591111111111111, 0.7848888888888889...   \n",
              "4     KNearestNeighbor  [0.7102222222222222, 0.7262222222222222, 0.730...   \n",
              "\n",
              "  Cross-Validation Mean Score  \n",
              "0                    0.761422  \n",
              "1                    0.761422  \n",
              "2                    0.761422  \n",
              "3                    0.761422  \n",
              "4                    0.714311  "
            ]
          },
          "execution_count": 34,
          "metadata": {},
          "output_type": "execute_result"
        }
      ],
      "source": [
        "# Scoring -> accuracy\n",
        "\n",
        "models = [('adaboost', adaboost), ('Random Forest', rf), ('Logistic Regression', logreg), ('XGBoosting', xgb), ('KNearestNeighbor', knn)]\n",
        "\n",
        "result = [train(model[1], X_train_val, y_train_val, score='accuracy') for model in models]\n",
        "result_np = np.array(result)\n",
        "\n",
        "result_df = pd.DataFrame({'Model':[model[0] for model in models], 'Cross-Validation Score':result_np[:, 1], 'Cross-Validation Mean Score':result_np[:, 2]})\n",
        "result_df"
      ]
    },
    {
      "cell_type": "code",
      "execution_count": null,
      "metadata": {
        "colab": {
          "base_uri": "https://localhost:8080/",
          "height": 261
        },
        "id": "jGuRc_ixGCyz",
        "outputId": "63c0debb-6a4d-4ac0-bdfc-f726e4684c61"
      },
      "outputs": [
        {
          "name": "stderr",
          "output_type": "stream",
          "text": [
            "/usr/local/lib/python3.7/dist-packages/ipykernel_launcher.py:6: VisibleDeprecationWarning: Creating an ndarray from ragged nested sequences (which is a list-or-tuple of lists-or-tuples-or ndarrays with different lengths or shapes) is deprecated. If you meant to do this, you must specify 'dtype=object' when creating the ndarray.\n",
            "  \n"
          ]
        },
        {
          "data": {
            "text/html": [
              "\n",
              "  <div id=\"df-67638643-3035-41ad-8e15-044d1d6c16a5\">\n",
              "    <div class=\"colab-df-container\">\n",
              "      <div>\n",
              "<style scoped>\n",
              "    .dataframe tbody tr th:only-of-type {\n",
              "        vertical-align: middle;\n",
              "    }\n",
              "\n",
              "    .dataframe tbody tr th {\n",
              "        vertical-align: top;\n",
              "    }\n",
              "\n",
              "    .dataframe thead th {\n",
              "        text-align: right;\n",
              "    }\n",
              "</style>\n",
              "<table border=\"1\" class=\"dataframe\">\n",
              "  <thead>\n",
              "    <tr style=\"text-align: right;\">\n",
              "      <th></th>\n",
              "      <th>Model</th>\n",
              "      <th>Cross-Validation Score</th>\n",
              "      <th>Cross-Validation Mean Score</th>\n",
              "    </tr>\n",
              "  </thead>\n",
              "  <tbody>\n",
              "    <tr>\n",
              "      <th>0</th>\n",
              "      <td>adaboost</td>\n",
              "      <td>[0.5207296849087895, 0.5320197044334976, 0.505...</td>\n",
              "      <td>0.529985</td>\n",
              "    </tr>\n",
              "    <tr>\n",
              "      <th>1</th>\n",
              "      <td>Random Forest</td>\n",
              "      <td>[0.5504273504273505, 0.5105633802816901, 0.554...</td>\n",
              "      <td>0.526143</td>\n",
              "    </tr>\n",
              "    <tr>\n",
              "      <th>2</th>\n",
              "      <td>Logistic Regression</td>\n",
              "      <td>[0.6010733452593918, 0.5724770642201835, 0.582...</td>\n",
              "      <td>0.584234</td>\n",
              "    </tr>\n",
              "    <tr>\n",
              "      <th>3</th>\n",
              "      <td>XGBoosting</td>\n",
              "      <td>[0.5989304812834224, 0.5568181818181819, 0.603...</td>\n",
              "      <td>0.583934</td>\n",
              "    </tr>\n",
              "    <tr>\n",
              "      <th>4</th>\n",
              "      <td>KNearestNeighbor</td>\n",
              "      <td>[0.5182481751824817, 0.5166051660516605, 0.526...</td>\n",
              "      <td>0.512229</td>\n",
              "    </tr>\n",
              "  </tbody>\n",
              "</table>\n",
              "</div>\n",
              "      <button class=\"colab-df-convert\" onclick=\"convertToInteractive('df-67638643-3035-41ad-8e15-044d1d6c16a5')\"\n",
              "              title=\"Convert this dataframe to an interactive table.\"\n",
              "              style=\"display:none;\">\n",
              "        \n",
              "  <svg xmlns=\"http://www.w3.org/2000/svg\" height=\"24px\"viewBox=\"0 0 24 24\"\n",
              "       width=\"24px\">\n",
              "    <path d=\"M0 0h24v24H0V0z\" fill=\"none\"/>\n",
              "    <path d=\"M18.56 5.44l.94 2.06.94-2.06 2.06-.94-2.06-.94-.94-2.06-.94 2.06-2.06.94zm-11 1L8.5 8.5l.94-2.06 2.06-.94-2.06-.94L8.5 2.5l-.94 2.06-2.06.94zm10 10l.94 2.06.94-2.06 2.06-.94-2.06-.94-.94-2.06-.94 2.06-2.06.94z\"/><path d=\"M17.41 7.96l-1.37-1.37c-.4-.4-.92-.59-1.43-.59-.52 0-1.04.2-1.43.59L10.3 9.45l-7.72 7.72c-.78.78-.78 2.05 0 2.83L4 21.41c.39.39.9.59 1.41.59.51 0 1.02-.2 1.41-.59l7.78-7.78 2.81-2.81c.8-.78.8-2.07 0-2.86zM5.41 20L4 18.59l7.72-7.72 1.47 1.35L5.41 20z\"/>\n",
              "  </svg>\n",
              "      </button>\n",
              "      \n",
              "  <style>\n",
              "    .colab-df-container {\n",
              "      display:flex;\n",
              "      flex-wrap:wrap;\n",
              "      gap: 12px;\n",
              "    }\n",
              "\n",
              "    .colab-df-convert {\n",
              "      background-color: #E8F0FE;\n",
              "      border: none;\n",
              "      border-radius: 50%;\n",
              "      cursor: pointer;\n",
              "      display: none;\n",
              "      fill: #1967D2;\n",
              "      height: 32px;\n",
              "      padding: 0 0 0 0;\n",
              "      width: 32px;\n",
              "    }\n",
              "\n",
              "    .colab-df-convert:hover {\n",
              "      background-color: #E2EBFA;\n",
              "      box-shadow: 0px 1px 2px rgba(60, 64, 67, 0.3), 0px 1px 3px 1px rgba(60, 64, 67, 0.15);\n",
              "      fill: #174EA6;\n",
              "    }\n",
              "\n",
              "    [theme=dark] .colab-df-convert {\n",
              "      background-color: #3B4455;\n",
              "      fill: #D2E3FC;\n",
              "    }\n",
              "\n",
              "    [theme=dark] .colab-df-convert:hover {\n",
              "      background-color: #434B5C;\n",
              "      box-shadow: 0px 1px 3px 1px rgba(0, 0, 0, 0.15);\n",
              "      filter: drop-shadow(0px 1px 2px rgba(0, 0, 0, 0.3));\n",
              "      fill: #FFFFFF;\n",
              "    }\n",
              "  </style>\n",
              "\n",
              "      <script>\n",
              "        const buttonEl =\n",
              "          document.querySelector('#df-67638643-3035-41ad-8e15-044d1d6c16a5 button.colab-df-convert');\n",
              "        buttonEl.style.display =\n",
              "          google.colab.kernel.accessAllowed ? 'block' : 'none';\n",
              "\n",
              "        async function convertToInteractive(key) {\n",
              "          const element = document.querySelector('#df-67638643-3035-41ad-8e15-044d1d6c16a5');\n",
              "          const dataTable =\n",
              "            await google.colab.kernel.invokeFunction('convertToInteractive',\n",
              "                                                     [key], {});\n",
              "          if (!dataTable) return;\n",
              "\n",
              "          const docLinkHtml = 'Like what you see? Visit the ' +\n",
              "            '<a target=\"_blank\" href=https://colab.research.google.com/notebooks/data_table.ipynb>data table notebook</a>'\n",
              "            + ' to learn more about interactive tables.';\n",
              "          element.innerHTML = '';\n",
              "          dataTable['output_type'] = 'display_data';\n",
              "          await google.colab.output.renderOutput(dataTable, element);\n",
              "          const docLink = document.createElement('div');\n",
              "          docLink.innerHTML = docLinkHtml;\n",
              "          element.appendChild(docLink);\n",
              "        }\n",
              "      </script>\n",
              "    </div>\n",
              "  </div>\n",
              "  "
            ],
            "text/plain": [
              "                 Model                             Cross-Validation Score  \\\n",
              "0             adaboost  [0.5207296849087895, 0.5320197044334976, 0.505...   \n",
              "1        Random Forest  [0.5504273504273505, 0.5105633802816901, 0.554...   \n",
              "2  Logistic Regression  [0.6010733452593918, 0.5724770642201835, 0.582...   \n",
              "3           XGBoosting  [0.5989304812834224, 0.5568181818181819, 0.603...   \n",
              "4     KNearestNeighbor  [0.5182481751824817, 0.5166051660516605, 0.526...   \n",
              "\n",
              "  Cross-Validation Mean Score  \n",
              "0                    0.529985  \n",
              "1                    0.526143  \n",
              "2                    0.584234  \n",
              "3                    0.583934  \n",
              "4                    0.512229  "
            ]
          },
          "execution_count": 38,
          "metadata": {},
          "output_type": "execute_result"
        }
      ],
      "source": [
        "# Scoring -> f1 -> Full Pakai semua features\n",
        "\n",
        "models = [('adaboost', adaboost), ('Random Forest', rf), ('Logistic Regression', logreg), ('XGBoosting', xgb), ('KNearestNeighbor', knn)]\n",
        "\n",
        "result = [train(model[1], X_train_val, y_train_val, select=SelectKBest(chi2, k=19)) for model in models]\n",
        "result_np = np.array(result)\n",
        "\n",
        "result_df = pd.DataFrame({'Model':[model[0] for model in models], 'Cross-Validation Score':result_np[:, 1], 'Cross-Validation Mean Score':result_np[:, 2]})\n",
        "result_df"
      ]
    },
    {
      "cell_type": "markdown",
      "metadata": {
        "id": "dAd5PNKQG4dA"
      },
      "source": [
        "F1-score meningkat jika kita tidak memakai proses feature selection"
      ]
    },
    {
      "cell_type": "markdown",
      "metadata": {
        "id": "XTYx2_iYIRlL"
      },
      "source": [
        "Handing Imbalance (Algorithm)"
      ]
    },
    {
      "cell_type": "code",
      "execution_count": null,
      "metadata": {
        "colab": {
          "base_uri": "https://localhost:8080/",
          "height": 167
        },
        "id": "cQ-NWje2HLC8",
        "outputId": "534ed927-771e-46c7-fb06-fea676691942"
      },
      "outputs": [
        {
          "name": "stderr",
          "output_type": "stream",
          "text": [
            "/usr/local/lib/python3.7/dist-packages/ipykernel_launcher.py:9: VisibleDeprecationWarning: Creating an ndarray from ragged nested sequences (which is a list-or-tuple of lists-or-tuples-or ndarrays with different lengths or shapes) is deprecated. If you meant to do this, you must specify 'dtype=object' when creating the ndarray.\n",
            "  if __name__ == '__main__':\n"
          ]
        },
        {
          "data": {
            "text/html": [
              "\n",
              "  <div id=\"df-bce00b55-0d5a-43bb-a11a-b28c8db0e198\">\n",
              "    <div class=\"colab-df-container\">\n",
              "      <div>\n",
              "<style scoped>\n",
              "    .dataframe tbody tr th:only-of-type {\n",
              "        vertical-align: middle;\n",
              "    }\n",
              "\n",
              "    .dataframe tbody tr th {\n",
              "        vertical-align: top;\n",
              "    }\n",
              "\n",
              "    .dataframe thead th {\n",
              "        text-align: right;\n",
              "    }\n",
              "</style>\n",
              "<table border=\"1\" class=\"dataframe\">\n",
              "  <thead>\n",
              "    <tr style=\"text-align: right;\">\n",
              "      <th></th>\n",
              "      <th>Model</th>\n",
              "      <th>Cross-Validation Score</th>\n",
              "      <th>Cross-Validation Mean Score</th>\n",
              "    </tr>\n",
              "  </thead>\n",
              "  <tbody>\n",
              "    <tr>\n",
              "      <th>0</th>\n",
              "      <td>Logistic Regression</td>\n",
              "      <td>[0.6161745827984596, 0.6063829787234042, 0.603...</td>\n",
              "      <td>0.624203</td>\n",
              "    </tr>\n",
              "    <tr>\n",
              "      <th>1</th>\n",
              "      <td>XGBoosting</td>\n",
              "      <td>[0.5989304812834224, 0.5568181818181819, 0.603...</td>\n",
              "      <td>0.583934</td>\n",
              "    </tr>\n",
              "  </tbody>\n",
              "</table>\n",
              "</div>\n",
              "      <button class=\"colab-df-convert\" onclick=\"convertToInteractive('df-bce00b55-0d5a-43bb-a11a-b28c8db0e198')\"\n",
              "              title=\"Convert this dataframe to an interactive table.\"\n",
              "              style=\"display:none;\">\n",
              "        \n",
              "  <svg xmlns=\"http://www.w3.org/2000/svg\" height=\"24px\"viewBox=\"0 0 24 24\"\n",
              "       width=\"24px\">\n",
              "    <path d=\"M0 0h24v24H0V0z\" fill=\"none\"/>\n",
              "    <path d=\"M18.56 5.44l.94 2.06.94-2.06 2.06-.94-2.06-.94-.94-2.06-.94 2.06-2.06.94zm-11 1L8.5 8.5l.94-2.06 2.06-.94-2.06-.94L8.5 2.5l-.94 2.06-2.06.94zm10 10l.94 2.06.94-2.06 2.06-.94-2.06-.94-.94-2.06-.94 2.06-2.06.94z\"/><path d=\"M17.41 7.96l-1.37-1.37c-.4-.4-.92-.59-1.43-.59-.52 0-1.04.2-1.43.59L10.3 9.45l-7.72 7.72c-.78.78-.78 2.05 0 2.83L4 21.41c.39.39.9.59 1.41.59.51 0 1.02-.2 1.41-.59l7.78-7.78 2.81-2.81c.8-.78.8-2.07 0-2.86zM5.41 20L4 18.59l7.72-7.72 1.47 1.35L5.41 20z\"/>\n",
              "  </svg>\n",
              "      </button>\n",
              "      \n",
              "  <style>\n",
              "    .colab-df-container {\n",
              "      display:flex;\n",
              "      flex-wrap:wrap;\n",
              "      gap: 12px;\n",
              "    }\n",
              "\n",
              "    .colab-df-convert {\n",
              "      background-color: #E8F0FE;\n",
              "      border: none;\n",
              "      border-radius: 50%;\n",
              "      cursor: pointer;\n",
              "      display: none;\n",
              "      fill: #1967D2;\n",
              "      height: 32px;\n",
              "      padding: 0 0 0 0;\n",
              "      width: 32px;\n",
              "    }\n",
              "\n",
              "    .colab-df-convert:hover {\n",
              "      background-color: #E2EBFA;\n",
              "      box-shadow: 0px 1px 2px rgba(60, 64, 67, 0.3), 0px 1px 3px 1px rgba(60, 64, 67, 0.15);\n",
              "      fill: #174EA6;\n",
              "    }\n",
              "\n",
              "    [theme=dark] .colab-df-convert {\n",
              "      background-color: #3B4455;\n",
              "      fill: #D2E3FC;\n",
              "    }\n",
              "\n",
              "    [theme=dark] .colab-df-convert:hover {\n",
              "      background-color: #434B5C;\n",
              "      box-shadow: 0px 1px 3px 1px rgba(0, 0, 0, 0.15);\n",
              "      filter: drop-shadow(0px 1px 2px rgba(0, 0, 0, 0.3));\n",
              "      fill: #FFFFFF;\n",
              "    }\n",
              "  </style>\n",
              "\n",
              "      <script>\n",
              "        const buttonEl =\n",
              "          document.querySelector('#df-bce00b55-0d5a-43bb-a11a-b28c8db0e198 button.colab-df-convert');\n",
              "        buttonEl.style.display =\n",
              "          google.colab.kernel.accessAllowed ? 'block' : 'none';\n",
              "\n",
              "        async function convertToInteractive(key) {\n",
              "          const element = document.querySelector('#df-bce00b55-0d5a-43bb-a11a-b28c8db0e198');\n",
              "          const dataTable =\n",
              "            await google.colab.kernel.invokeFunction('convertToInteractive',\n",
              "                                                     [key], {});\n",
              "          if (!dataTable) return;\n",
              "\n",
              "          const docLinkHtml = 'Like what you see? Visit the ' +\n",
              "            '<a target=\"_blank\" href=https://colab.research.google.com/notebooks/data_table.ipynb>data table notebook</a>'\n",
              "            + ' to learn more about interactive tables.';\n",
              "          element.innerHTML = '';\n",
              "          dataTable['output_type'] = 'display_data';\n",
              "          await google.colab.output.renderOutput(dataTable, element);\n",
              "          const docLink = document.createElement('div');\n",
              "          docLink.innerHTML = docLinkHtml;\n",
              "          element.appendChild(docLink);\n",
              "        }\n",
              "      </script>\n",
              "    </div>\n",
              "  </div>\n",
              "  "
            ],
            "text/plain": [
              "                 Model                             Cross-Validation Score  \\\n",
              "0  Logistic Regression  [0.6161745827984596, 0.6063829787234042, 0.603...   \n",
              "1           XGBoosting  [0.5989304812834224, 0.5568181818181819, 0.603...   \n",
              "\n",
              "  Cross-Validation Mean Score  \n",
              "0                    0.624203  \n",
              "1                    0.583934  "
            ]
          },
          "execution_count": 46,
          "metadata": {},
          "output_type": "execute_result"
        }
      ],
      "source": [
        "# Scoring -> f1 -> Full Pakai semua features\n",
        "\n",
        "logreg_new = LogisticRegression(class_weight='balanced')\n",
        "xgb_new = XGBClassifier()\n",
        "\n",
        "models = [('Logistic Regression', logreg_new), ('XGBoosting', xgb_new)]\n",
        "\n",
        "result = [train(model[1], X_train_val, y_train_val, select=SelectKBest(chi2, k=19)) for model in models]\n",
        "result_np = np.array(result)\n",
        "\n",
        "result_df = pd.DataFrame({'Model':[model[0] for model in models], 'Cross-Validation Score':result_np[:, 1], 'Cross-Validation Mean Score':result_np[:, 2]})\n",
        "result_df"
      ]
    },
    {
      "cell_type": "markdown",
      "metadata": {
        "id": "pfE0Ovc2N3IN"
      },
      "source": [
        "##### Hyperparameter Tuning\n",
        "- Logistic Regression: C, solver, max_iter\n",
        "- XGboost: n_estimator, max_depth, learning_rate"
      ]
    },
    {
      "cell_type": "code",
      "execution_count": null,
      "metadata": {
        "id": "-RYcoSM8Qbgt"
      },
      "outputs": [],
      "source": [
        "logreg_new = LogisticRegression(class_weight='balanced')\n",
        "xgb_new = XGBClassifier()"
      ]
    },
    {
      "cell_type": "code",
      "execution_count": null,
      "metadata": {
        "id": "lc8yFSc0N2S9"
      },
      "outputs": [],
      "source": [
        "# Logistic Regression\n",
        "\n",
        "pipe = Pipeline([('Preprocessing', ct),\n",
        "                   ('Clf', logreg_new)])\n",
        "\n",
        "hyperparameter_space = {\n",
        "    'Clf__C': [10, 1, 0.1, 0.01, 0.001],\n",
        "    'Clf__solver': ['newton-cg', 'lbfgs', 'liblinear', 'sag', 'saga'],\n",
        "    'Clf__max_iter': [300, 200, 100, 50]\n",
        "}\n",
        "\n",
        "rs = RandomizedSearchCV(pipe,\n",
        "                        n_iter=40,\n",
        "                        param_distributions=hyperparameter_space,\n",
        "                        scoring='f1',\n",
        "                        cv=KFold(n_splits=5, shuffle=True, random_state=42),\n",
        "                        random_state=42,\n",
        "                        return_train_score=True,\n",
        "                        verbose=4)"
      ]
    },
    {
      "cell_type": "code",
      "execution_count": null,
      "metadata": {
        "id": "Riz6GyyBQpax"
      },
      "outputs": [],
      "source": [
        "rs.fit(X_train_val, y_train_val)"
      ]
    },
    {
      "cell_type": "code",
      "execution_count": null,
      "metadata": {
        "colab": {
          "base_uri": "https://localhost:8080/"
        },
        "id": "c852bxxyR1xG",
        "outputId": "a9ebd6e8-6e72-460e-8365-e3a9f7e24910"
      },
      "outputs": [
        {
          "name": "stdout",
          "output_type": "stream",
          "text": [
            "0.6334509505810825\n",
            "{'Clf__solver': 'liblinear', 'Clf__max_iter': 300, 'Clf__C': 1}\n"
          ]
        }
      ],
      "source": [
        "print(rs.best_score_)\n",
        "print(rs.best_params_)"
      ]
    },
    {
      "cell_type": "markdown",
      "metadata": {
        "id": "apUseqxpSAd5"
      },
      "source": [
        "##### Model Benchmark"
      ]
    },
    {
      "cell_type": "markdown",
      "metadata": {
        "id": "uJts1JTDSeNY"
      },
      "source": [
        "Before (with pipeline)"
      ]
    },
    {
      "cell_type": "code",
      "execution_count": null,
      "metadata": {
        "id": "1ANrswKKR_1x"
      },
      "outputs": [],
      "source": [
        "logreg_before = LogisticRegression(class_weight='balanced')\n",
        "\n",
        "pipe = Pipeline([('Preprocessing', ct),\n",
        "                   ('Clf', logreg_before)])\n",
        "\n",
        "pipe.fit(X_train_val, y_train_val)\n",
        "\n",
        "y_pred = pipe.predict(X_test)"
      ]
    },
    {
      "cell_type": "code",
      "execution_count": null,
      "metadata": {
        "colab": {
          "base_uri": "https://localhost:8080/"
        },
        "id": "g-2YcijtTVAk",
        "outputId": "7e4ff9f7-8b1e-4018-cbc3-5925c387c37d"
      },
      "outputs": [
        {
          "name": "stdout",
          "output_type": "stream",
          "text": [
            "              precision    recall  f1-score   support\n",
            "\n",
            "           0       0.90      0.70      0.79      1033\n",
            "           1       0.49      0.79      0.61       374\n",
            "\n",
            "    accuracy                           0.73      1407\n",
            "   macro avg       0.70      0.75      0.70      1407\n",
            "weighted avg       0.79      0.73      0.74      1407\n",
            "\n"
          ]
        }
      ],
      "source": [
        "# Evaluation\n",
        "\n",
        "print(classification_report(y_test, y_pred))"
      ]
    },
    {
      "cell_type": "markdown",
      "metadata": {
        "id": "uLMBVoPrUsmb"
      },
      "source": [
        "Before (without pipeline)"
      ]
    },
    {
      "cell_type": "code",
      "execution_count": null,
      "metadata": {
        "id": "Umci9cXDUJti"
      },
      "outputs": [],
      "source": [
        "ct.fit(X_train_val)\n",
        "\n",
        "X_train_val_pre = ct.transform(X_train_val)\n",
        "X_test_pre = ct.transform(X_test)"
      ]
    },
    {
      "cell_type": "code",
      "execution_count": null,
      "metadata": {
        "colab": {
          "base_uri": "https://localhost:8080/"
        },
        "id": "eEaZrD-GUHo7",
        "outputId": "6e04cde4-9811-42d7-c267-fc7fd248b820"
      },
      "outputs": [
        {
          "name": "stdout",
          "output_type": "stream",
          "text": [
            "              precision    recall  f1-score   support\n",
            "\n",
            "           0       0.90      0.70      0.79      1033\n",
            "           1       0.49      0.79      0.61       374\n",
            "\n",
            "    accuracy                           0.73      1407\n",
            "   macro avg       0.70      0.75      0.70      1407\n",
            "weighted avg       0.79      0.73      0.74      1407\n",
            "\n"
          ]
        }
      ],
      "source": [
        "logreg_before = LogisticRegression(class_weight='balanced')\n",
        "logreg_before.fit(X_train_val_pre, y_train_val)\n",
        "\n",
        "y_pred = logreg_before.predict(X_test_pre)\n",
        "print(classification_report(y_test, y_pred))"
      ]
    },
    {
      "cell_type": "markdown",
      "metadata": {
        "id": "8QEUe2S1U5Qs"
      },
      "source": [
        "After (With pipeline)"
      ]
    },
    {
      "cell_type": "code",
      "execution_count": null,
      "metadata": {
        "id": "-9ev0rGpU8tC"
      },
      "outputs": [],
      "source": [
        "logreg_after = LogisticRegression(class_weight='balanced', solver='liblinear', max_iter= 300, C=1)\n",
        "\n",
        "pipe_after = Pipeline([('Preprocessing', ct),\n",
        "                   ('Clf', logreg_after)])\n",
        "\n",
        "pipe_after.fit(X_train_val, y_train_val)\n",
        "\n",
        "y_pred_after = pipe_after.predict(X_test)"
      ]
    },
    {
      "cell_type": "code",
      "execution_count": null,
      "metadata": {
        "colab": {
          "base_uri": "https://localhost:8080/"
        },
        "id": "6uE9wHIEVgbL",
        "outputId": "25bba312-8a5e-406f-cc24-15145d95cf40"
      },
      "outputs": [
        {
          "name": "stdout",
          "output_type": "stream",
          "text": [
            "              precision    recall  f1-score   support\n",
            "\n",
            "           0       0.90      0.70      0.79      1033\n",
            "           1       0.49      0.79      0.61       374\n",
            "\n",
            "    accuracy                           0.73      1407\n",
            "   macro avg       0.70      0.75      0.70      1407\n",
            "weighted avg       0.79      0.73      0.74      1407\n",
            "\n"
          ]
        }
      ],
      "source": [
        "# Evaluation\n",
        "\n",
        "print(classification_report(y_test, y_pred_after))"
      ]
    },
    {
      "cell_type": "code",
      "execution_count": null,
      "metadata": {
        "colab": {
          "base_uri": "https://localhost:8080/"
        },
        "id": "bFY9GHhfV-PI",
        "outputId": "5535fa74-67d3-42e0-ae9e-95577cf01e6d"
      },
      "outputs": [
        {
          "name": "stdout",
          "output_type": "stream",
          "text": [
            "0.6065573770491802\n",
            "0.6065573770491802\n"
          ]
        }
      ],
      "source": [
        "from sklearn.metrics import f1_score\n",
        "\n",
        "print(f1_score(y_test, y_pred_after))\n",
        "print(f1_score(y_test, y_pred))"
      ]
    },
    {
      "cell_type": "markdown",
      "metadata": {
        "id": "q-iRYSnsW8XN"
      },
      "source": [
        "After without class_weight (With pipeline)"
      ]
    },
    {
      "cell_type": "code",
      "execution_count": null,
      "metadata": {
        "colab": {
          "base_uri": "https://localhost:8080/"
        },
        "id": "enRh9NsxWjGL",
        "outputId": "d886c05b-8451-4575-e294-f986e70a61a2"
      },
      "outputs": [
        {
          "name": "stdout",
          "output_type": "stream",
          "text": [
            "              precision    recall  f1-score   support\n",
            "\n",
            "           0       0.85      0.89      0.87      1033\n",
            "           1       0.65      0.57      0.61       374\n",
            "\n",
            "    accuracy                           0.80      1407\n",
            "   macro avg       0.75      0.73      0.74      1407\n",
            "weighted avg       0.80      0.80      0.80      1407\n",
            "\n"
          ]
        }
      ],
      "source": [
        "logreg_after = LogisticRegression(solver='liblinear', max_iter= 300, C=1)\n",
        "\n",
        "pipe_after = Pipeline([('Preprocessing', ct),\n",
        "                   ('Clf', logreg_after)])\n",
        "\n",
        "pipe_after.fit(X_train_val, y_train_val)\n",
        "\n",
        "y_pred_after = pipe_after.predict(X_test)\n",
        "\n",
        "print(classification_report(y_test, y_pred_after))"
      ]
    },
    {
      "cell_type": "markdown",
      "metadata": {
        "id": "RCI6hQ0iYMbC"
      },
      "source": [
        "- Setelah dilakukan tunning parameter model tidak mengalami peningkatan yang signifikan\n",
        "- Dengan kita memberi parameter class_weight='balanced' meningkatkan score Recall -> Akurasi berkurang"
      ]
    }
  ],
  "metadata": {
    "colab": {
      "name": "Churn Analysis.ipynb",
      "provenance": []
    },
    "kernelspec": {
      "display_name": "Python 3.10.5 64-bit",
      "language": "python",
      "name": "python3"
    },
    "language_info": {
      "name": "python",
      "version": "3.10.5"
    },
    "vscode": {
      "interpreter": {
        "hash": "b7b70fa66722e49451ebfa1b4d02e5cba0d3a2dfe7e129147954afbb570b50a9"
      }
    }
  },
  "nbformat": 4,
  "nbformat_minor": 0
}
